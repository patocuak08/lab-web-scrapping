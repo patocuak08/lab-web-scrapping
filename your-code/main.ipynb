{
 "cells": [
  {
   "cell_type": "markdown",
   "metadata": {},
   "source": [
    "# Web Scraping Lab\n",
    "\n",
    "You will find in this notebook some scrapy exercises to practise your scraping skills.\n",
    "\n",
    "**Tips:**\n",
    "\n",
    "- Check the response status code for each request to ensure you have obtained the intended contennt.\n",
    "- Print the response text in each request to understand the kind of info you are getting and its format.\n",
    "- Check for patterns in the response text to extract the data/info requested in each question.\n",
    "- Visit each url and take a look at its source through Chrome DevTools. You'll need to identify the html tags, special class names etc. used for the html content you are expected to extract."
   ]
  },
  {
   "cell_type": "markdown",
   "metadata": {},
   "source": [
    "- [Requests library](http://docs.python-requests.org/en/master/#the-user-guide) documentation \n",
    "- [Beautiful Soup Doc](https://www.crummy.com/software/BeautifulSoup/bs4/doc/)\n",
    "- [Urllib](https://docs.python.org/3/library/urllib.html#module-urllib)\n",
    "- [re lib](https://docs.python.org/3/library/re.html)\n",
    "- [lxml lib](https://lxml.de/)\n",
    "- [Scrapy](https://scrapy.org/)\n",
    "- [List of HTTP status codes](https://en.wikipedia.org/wiki/List_of_HTTP_status_codes)\n",
    "- [HTML basics](http://www.simplehtmlguide.com/cheatsheet.php)\n",
    "- [CSS basics](https://www.cssbasics.com/#page_start)"
   ]
  },
  {
   "cell_type": "markdown",
   "metadata": {},
   "source": [
    "#### Below are the libraries and modules you may need. `requests`,  `BeautifulSoup` and `pandas` are imported for you. If you prefer to use additional libraries feel free to uncomment them."
   ]
  },
  {
   "cell_type": "code",
   "execution_count": 1,
   "metadata": {},
   "outputs": [],
   "source": [
    "import requests\n",
    "from bs4 import BeautifulSoup\n",
    "import pandas as pd\n",
    "# from pprint import pprint\n",
    "# from lxml import html\n",
    "# from lxml.html import fromstring\n",
    "# import urllib.request\n",
    "# from urllib.request import urlopen\n",
    "# import random\n",
    "import re\n",
    "# import scrapy"
   ]
  },
  {
   "cell_type": "markdown",
   "metadata": {},
   "source": [
    "#### Download, parse (using BeautifulSoup), and print the content from the Trending Developers page from GitHub:"
   ]
  },
  {
   "cell_type": "code",
   "execution_count": 2,
   "metadata": {},
   "outputs": [],
   "source": [
    "# This is the url you will scrape in this exercise\n",
    "url = 'https://github.com/trending/developers'\n"
   ]
  },
  {
   "cell_type": "code",
   "execution_count": 3,
   "metadata": {},
   "outputs": [],
   "source": [
    "#your code\n",
    "html = requests.get(url).content\n",
    "html\n",
    "soup = BeautifulSoup(html,'lxml')\n",
    "#soup"
   ]
  },
  {
   "cell_type": "markdown",
   "metadata": {},
   "source": [
    "#### Display the names of the trending developers retrieved in the previous step.\n",
    "\n",
    "Your output should be a Python list of developer names. Each name should not contain any html tag.\n",
    "\n",
    "**Instructions:**\n",
    "\n",
    "1. Find out the html tag and class names used for the developer names. You can achieve this using Chrome DevTools.\n",
    "\n",
    "1. Use BeautifulSoup to extract all the html elements that contain the developer names.\n",
    "\n",
    "1. Use string manipulation techniques to replace whitespaces and linebreaks (i.e. `\\n`) in the *text* of each html element. Use a list to store the clean names.\n",
    "\n",
    "1. Print the list of names.\n",
    "\n",
    "Your output should look like below:\n",
    "\n",
    "```\n",
    "['trimstray (@trimstray)',\n",
    " 'joewalnes (JoeWalnes)',\n",
    " 'charlax (Charles-AxelDein)',\n",
    " 'ForrestKnight (ForrestKnight)',\n",
    " 'revery-ui (revery-ui)',\n",
    " 'alibaba (Alibaba)',\n",
    " 'Microsoft (Microsoft)',\n",
    " 'github (GitHub)',\n",
    " 'facebook (Facebook)',\n",
    " 'boazsegev (Bo)',\n",
    " 'google (Google)',\n",
    " 'cloudfetch',\n",
    " 'sindresorhus (SindreSorhus)',\n",
    " 'tensorflow',\n",
    " 'apache (TheApacheSoftwareFoundation)',\n",
    " 'DevonCrawford (DevonCrawford)',\n",
    " 'ARMmbed (ArmMbed)',\n",
    " 'vuejs (vuejs)',\n",
    " 'fastai (fast.ai)',\n",
    " 'QiShaoXuan (Qi)',\n",
    " 'joelparkerhenderson (JoelParkerHenderson)',\n",
    " 'torvalds (LinusTorvalds)',\n",
    " 'CyC2018',\n",
    " 'komeiji-satori (神楽坂覚々)',\n",
    " 'script-8']\n",
    " ```"
   ]
  },
  {
   "cell_type": "code",
   "execution_count": 4,
   "metadata": {},
   "outputs": [
    {
     "name": "stdout",
     "output_type": "stream",
     "text": [
      "25\n",
      "25\n",
      "['Stefan Prodan', 'stefanprodan']\n",
      "['Alexey Pyltsyn', 'lex111']\n",
      "['Jed Watson', 'JedWatson']\n",
      "['Jethro Kuan', 'jethrokuan']\n",
      "['Daniel Vaz Gaspar', 'dpgaspar']\n",
      "['Erik Ejlskov Jensen', 'ErikEJ']\n",
      "['Dries Vints', 'driesvints']\n",
      "['Gleb Bahmutov', 'bahmutov']\n",
      "['Matthias Urhahn', 'd4rken']\n",
      "['Lars Hvam', 'larshp']\n",
      "['Jonah Williams', 'jonahwilliams']\n",
      "['Luke Latham', 'guardrex']\n",
      "['Ben Manes', 'ben-manes']\n",
      "['David Rodríguez', 'deivid-rodriguez']\n",
      "['Sebastián Ramírez', 'tiangolo']\n",
      "['Alex Goodman', 'wagoodman']\n",
      "['Roger Chapman', 'rogchap']\n",
      "['Paul Le Cam', 'PaulLeCam']\n",
      "['Klaus Post', 'klauspost']\n",
      "['Kevin Papst', 'kevinpapst']\n",
      "['Pariente Manuel', 'mpariente']\n",
      "['Francois Zaninotto', 'fzaninotto']\n",
      "['Seth Michael Larson', 'sethmlarson']\n",
      "['Connor Tumbleson', 'iBotPeaches']\n",
      "['Adam Stankiewicz', 'sheerun']\n"
     ]
    }
   ],
   "source": [
    "#your code\n",
    "#tags = ['h1']\n",
    "#elements = [element.text for element in soup.find_all(tags)]\n",
    "#elements\n",
    "nombre = soup.select('h1[class=\"h3 lh-condensed\"]')\n",
    "nombre = [element.text.strip() for element in nombre]\n",
    "#nombre\n",
    "alias = soup.select('p[class=\"f4 text-normal mb-1\"]')\n",
    "alias = [element.text.strip() for element in alias]\n",
    "print(len(nombre))\n",
    "print(len(alias))\n",
    "#alias\n",
    "resultado = zip(nombre,alias)\n",
    "for result in resultado:\n",
    "    print(list(result))\n",
    "\n",
    "    \n",
    "    \n",
    "\n",
    "\n",
    "#Sacamos primero los nombres con una clase dentro de h1 y posterior los alias dentrode otra clase en P\n",
    "#posterior se hizo un zip para hacerlos juntos en una lista"
   ]
  },
  {
   "cell_type": "markdown",
   "metadata": {},
   "source": [
    "#### Display the trending Python repositories in GitHub\n",
    "\n",
    "The steps to solve this problem is similar to the previous one except that you need to find out the repository names instead of developer names."
   ]
  },
  {
   "cell_type": "code",
   "execution_count": 5,
   "metadata": {},
   "outputs": [],
   "source": [
    "# This is the url you will scrape in this exercise\n",
    "url1 = 'https://github.com/trending/python?since=daily'"
   ]
  },
  {
   "cell_type": "code",
   "execution_count": 6,
   "metadata": {},
   "outputs": [
    {
     "data": {
      "text/plain": [
       "['corpnewt/gibMacOS',\n",
       " 'natewong1313/bird-bot',\n",
       " 'zhm-real/PathPlanning',\n",
       " 'munki/macadmin-scripts',\n",
       " 'Asabeneh/30-Days-Of-Python',\n",
       " 'public-apis/public-apis',\n",
       " 'donnemartin/system-design-primer',\n",
       " 'Rudrabha/Wav2Lip',\n",
       " 'apache/airflow',\n",
       " 'kholia/OSX-KVM',\n",
       " 'TheAlgorithms/Python',\n",
       " 'jackfrued/Python-100-Days',\n",
       " 'willmcgugan/rich',\n",
       " 'ray-project/ray',\n",
       " 'plotly/dash',\n",
       " 'joshlk/many_requests',\n",
       " 'fishtown-analytics/dbt',\n",
       " 'facebookresearch/detectron2',\n",
       " 'MrMimic/data-scientist-roadmap',\n",
       " 'OpenMined/PySyft',\n",
       " 'microsoft/DeepSpeed',\n",
       " 'quantumblacklabs/kedro',\n",
       " 'psf/requests',\n",
       " 'cupy/cupy',\n",
       " 'optuna/optuna']"
      ]
     },
     "execution_count": 6,
     "metadata": {},
     "output_type": "execute_result"
    }
   ],
   "source": [
    "html1 = requests.get(url1).content\n",
    "html1\n",
    "soup1 = BeautifulSoup(html1,'lxml')\n",
    "repositorio = soup1.select('h1[class=\"h3 lh-condensed\"]')\n",
    "repositorio = [element.text.strip() for element in repositorio]\n",
    "clean_repositorio = list()\n",
    "for element in repositorio:\n",
    "    clean = re.sub('\\s+\\W\\s+','/',element).strip()\n",
    "    clean_repositorio.append(clean)\n",
    "    \n",
    "clean_repositorio\n",
    "#soup1\n",
    "\n"
   ]
  },
  {
   "cell_type": "markdown",
   "metadata": {},
   "source": [
    "#### Display all the image links from Walt Disney wikipedia page"
   ]
  },
  {
   "cell_type": "code",
   "execution_count": 7,
   "metadata": {},
   "outputs": [],
   "source": [
    "# This is the url you will scrape in this exercise\n",
    "url2 = 'https://en.wikipedia.org/wiki/Walt_Disney'"
   ]
  },
  {
   "cell_type": "code",
   "execution_count": 8,
   "metadata": {},
   "outputs": [
    {
     "data": {
      "text/plain": [
       "['https://upload.wikimedia.org/wikipedia/en/thumb/e/e7/Cscr-featured.svg/20px-Cscr-featured.svg.png',\n",
       " 'https://upload.wikimedia.org/wikipedia/en/thumb/8/8c/Extended-protection-shackle.svg/20px-Extended-protection-shackle.svg.png',\n",
       " 'https://upload.wikimedia.org/wikipedia/commons/thumb/d/df/Walt_Disney_1946.JPG/220px-Walt_Disney_1946.JPG',\n",
       " 'https://upload.wikimedia.org/wikipedia/commons/thumb/8/87/Walt_Disney_1942_signature.svg/150px-Walt_Disney_1942_signature.svg.png',\n",
       " 'https://upload.wikimedia.org/wikipedia/commons/thumb/c/c4/Walt_Disney_envelope_ca._1921.jpg/220px-Walt_Disney_envelope_ca._1921.jpg']"
      ]
     },
     "execution_count": 8,
     "metadata": {},
     "output_type": "execute_result"
    }
   ],
   "source": [
    "#your code\n",
    "html2 = requests.get(url2).content\n",
    "#html2\n",
    "soup2 = BeautifulSoup(html2,'lxml')\n",
    "#soup2\n",
    "imagenes = soup2.select('div[class=\"thumbinner\"]')\n",
    "imagenes = soup2.select('img')\n",
    "links = [ 'https:' + element.get('src') for element in imagenes]\n",
    "links[:5]\n"
   ]
  },
  {
   "cell_type": "markdown",
   "metadata": {},
   "source": [
    "#### Retrieve an arbitary Wikipedia page of \"Python\" and create a list of links on that page"
   ]
  },
  {
   "cell_type": "code",
   "execution_count": 9,
   "metadata": {},
   "outputs": [],
   "source": [
    "# This is the url you will scrape in this exercise\n",
    "url3 ='https://en.wikipedia.org/wiki/Python' "
   ]
  },
  {
   "cell_type": "code",
   "execution_count": 10,
   "metadata": {},
   "outputs": [
    {
     "data": {
      "text/html": [
       "<div>\n",
       "<style scoped>\n",
       "    .dataframe tbody tr th:only-of-type {\n",
       "        vertical-align: middle;\n",
       "    }\n",
       "\n",
       "    .dataframe tbody tr th {\n",
       "        vertical-align: top;\n",
       "    }\n",
       "\n",
       "    .dataframe thead th {\n",
       "        text-align: right;\n",
       "    }\n",
       "</style>\n",
       "<table border=\"1\" class=\"dataframe\">\n",
       "  <thead>\n",
       "    <tr style=\"text-align: right;\">\n",
       "      <th></th>\n",
       "      <th>links</th>\n",
       "    </tr>\n",
       "  </thead>\n",
       "  <tbody>\n",
       "    <tr>\n",
       "      <th>0</th>\n",
       "      <td>https://en.wiktionary.org/wiki/Python</td>\n",
       "    </tr>\n",
       "    <tr>\n",
       "      <th>1</th>\n",
       "      <td>https://en.wiktionary.org/wiki/python</td>\n",
       "    </tr>\n",
       "    <tr>\n",
       "      <th>2</th>\n",
       "      <td>/wiki/Pythons</td>\n",
       "    </tr>\n",
       "    <tr>\n",
       "      <th>3</th>\n",
       "      <td>/wiki/Python_(genus)</td>\n",
       "    </tr>\n",
       "    <tr>\n",
       "      <th>4</th>\n",
       "      <td>/w/index.php?title=Python&amp;action=edit&amp;section=1</td>\n",
       "    </tr>\n",
       "    <tr>\n",
       "      <th>...</th>\n",
       "      <td>...</td>\n",
       "    </tr>\n",
       "    <tr>\n",
       "      <th>137</th>\n",
       "      <td>https://www.mediawiki.org/wiki/Special:MyLangu...</td>\n",
       "    </tr>\n",
       "    <tr>\n",
       "      <th>138</th>\n",
       "      <td>https://stats.wikimedia.org/#/en.wikipedia.org</td>\n",
       "    </tr>\n",
       "    <tr>\n",
       "      <th>139</th>\n",
       "      <td>https://foundation.wikimedia.org/wiki/Cookie_s...</td>\n",
       "    </tr>\n",
       "    <tr>\n",
       "      <th>140</th>\n",
       "      <td>https://wikimediafoundation.org/</td>\n",
       "    </tr>\n",
       "    <tr>\n",
       "      <th>141</th>\n",
       "      <td>https://www.mediawiki.org/</td>\n",
       "    </tr>\n",
       "  </tbody>\n",
       "</table>\n",
       "<p>142 rows × 1 columns</p>\n",
       "</div>"
      ],
      "text/plain": [
       "                                                 links\n",
       "0                https://en.wiktionary.org/wiki/Python\n",
       "1                https://en.wiktionary.org/wiki/python\n",
       "2                                        /wiki/Pythons\n",
       "3                                 /wiki/Python_(genus)\n",
       "4      /w/index.php?title=Python&action=edit&section=1\n",
       "..                                                 ...\n",
       "137  https://www.mediawiki.org/wiki/Special:MyLangu...\n",
       "138     https://stats.wikimedia.org/#/en.wikipedia.org\n",
       "139  https://foundation.wikimedia.org/wiki/Cookie_s...\n",
       "140                   https://wikimediafoundation.org/\n",
       "141                         https://www.mediawiki.org/\n",
       "\n",
       "[142 rows x 1 columns]"
      ]
     },
     "execution_count": 10,
     "metadata": {},
     "output_type": "execute_result"
    }
   ],
   "source": [
    "#your code\n",
    "html3 = requests.get(url3).content\n",
    "#html3\n",
    "soup3 = BeautifulSoup(html3,'lxml')\n",
    "#soup3\n",
    "links_paginas = [ element.get('href') for element in soup3.findAll('a') ]\n",
    "#estamos solicitando todos los elementos href dentro de a\n",
    "links_paginas.remove(None)\n",
    "#removimos la palabra none\n",
    "links_paginas\n",
    "\n",
    "eliminar = re.compile(r'#')\n",
    "links_pagina = [element\n",
    "            for element in links_paginas \n",
    "            if not eliminar.match(element)]\n",
    "#pedimos que elimine todos los elementos que coincidan con el signo #\n",
    "\n",
    "links_pagina = pd.DataFrame(links_pagina, columns = ['links'])\n",
    "links_pagina\n",
    "#lo convertimos a tabla\n",
    "\n",
    "\n",
    "\n",
    "#https://relopezbriega.github.io/blog/2015/07/19/expresiones-regulares-con-python/"
   ]
  },
  {
   "cell_type": "markdown",
   "metadata": {},
   "source": [
    "#### Number of Titles that have changed in the United States Code since its last release point "
   ]
  },
  {
   "cell_type": "code",
   "execution_count": 39,
   "metadata": {},
   "outputs": [],
   "source": [
    "# This is the url you will scrape in this exercise\n",
    "url4 = 'http://uscode.house.gov/download/download.shtml'"
   ]
  },
  {
   "cell_type": "code",
   "execution_count": 41,
   "metadata": {},
   "outputs": [
    {
     "name": "stdout",
     "output_type": "stream",
     "text": [
      "18\n"
     ]
    },
    {
     "data": {
      "text/plain": [
       "['Title 7 - Agriculture',\n",
       " 'Title 11 - Bankruptcy ٭',\n",
       " 'Title 13 - Census ٭',\n",
       " 'Title 14 - Coast Guard ٭',\n",
       " 'Title 15 - Commerce and Trade',\n",
       " 'Title 16 - Conservation',\n",
       " 'Title 21 - Food and Drugs',\n",
       " 'Title 24 - Hospitals and Asylums',\n",
       " 'Title 27 - Intoxicating Liquors',\n",
       " 'Title 32 - National Guard ٭',\n",
       " 'Title 33 - Navigation and Navigable Waters',\n",
       " 'Title 34 - Crime Control and Law Enforcement',\n",
       " 'Title 36 - Patriotic and National Observances, Ceremonies, and Organizations ٭',\n",
       " \"Title 38 - Veterans' Benefits ٭\",\n",
       " 'Title 42 - The Public Health and Welfare',\n",
       " 'Title 45 - Railroads',\n",
       " 'Title 49 - Transportation ٭',\n",
       " 'Title 54 - National Park Service and Related Programs ٭']"
      ]
     },
     "execution_count": 41,
     "metadata": {},
     "output_type": "execute_result"
    }
   ],
   "source": [
    "#your code\n",
    "soup4 = BeautifulSoup( requests.get(url4).content )\n",
    "\n",
    "titulos_cambiados = soup4.select('div[class=\"usctitlechanged\"]')\n",
    "titulos_cambiados = [element.text.strip() for element in titulos_cambiados]\n",
    "print(len(titulos_cambiados))\n",
    "titulos_cambiados"
   ]
  },
  {
   "cell_type": "markdown",
   "metadata": {},
   "source": [
    "#### A Python list with the top ten FBI's Most Wanted names "
   ]
  },
  {
   "cell_type": "code",
   "execution_count": 13,
   "metadata": {},
   "outputs": [],
   "source": [
    "# This is the url you will scrape in this exercise\n",
    "url5 = 'https://www.fbi.gov/wanted/topten'"
   ]
  },
  {
   "cell_type": "code",
   "execution_count": 14,
   "metadata": {},
   "outputs": [
    {
     "data": {
      "text/plain": [
       "['ALEJANDRO ROSALES CASTILLO',\n",
       " 'ARNOLDO JIMENEZ',\n",
       " 'JASON DEREK BROWN',\n",
       " 'ALEXIS FLORES',\n",
       " 'JOSE RODOLFO VILLARREAL-HERNANDEZ',\n",
       " 'EUGENE PALMER',\n",
       " 'RAFAEL CARO-QUINTERO',\n",
       " 'ROBERT WILLIAM FISHER',\n",
       " 'BHADRESHKUMAR CHETANBHAI PATEL',\n",
       " 'YASER ABDEL SAID']"
      ]
     },
     "execution_count": 14,
     "metadata": {},
     "output_type": "execute_result"
    }
   ],
   "source": [
    "#your code \n",
    "html5 = requests.get(url5).content\n",
    "#html3\n",
    "soup5 = BeautifulSoup(html5,'lxml')\n",
    "#soup3\n",
    "nombre = soup5.select('h3[class=\"title\"]')\n",
    "nombre = [element.text.strip() for element in nombre]\n",
    "nombre\n"
   ]
  },
  {
   "cell_type": "markdown",
   "metadata": {},
   "source": [
    "####  20 latest earthquakes info (date, time, latitude, longitude and region name) by the EMSC as a pandas dataframe"
   ]
  },
  {
   "cell_type": "code",
   "execution_count": 15,
   "metadata": {},
   "outputs": [],
   "source": [
    "# This is the url you will scrape in this exercise\n",
    "url6 = 'https://www.emsc-csem.org/Earthquake/'"
   ]
  },
  {
   "cell_type": "code",
   "execution_count": 45,
   "metadata": {},
   "outputs": [
    {
     "name": "stderr",
     "output_type": "stream",
     "text": [
      "/usr/local/lib/python3.8/site-packages/pandas/core/internals/construction.py:305: VisibleDeprecationWarning: Creating an ndarray from ragged nested sequences (which is a list-or-tuple of lists-or-tuples-or ndarrays with different lengths or shapes) is deprecated. If you meant to do this, you must specify 'dtype=object' when creating the ndarray\n",
      "  values = np.array([convert(v) for v in values])\n"
     ]
    },
    {
     "data": {
      "text/html": [
       "<div>\n",
       "<style scoped>\n",
       "    .dataframe tbody tr th:only-of-type {\n",
       "        vertical-align: middle;\n",
       "    }\n",
       "\n",
       "    .dataframe tbody tr th {\n",
       "        vertical-align: top;\n",
       "    }\n",
       "\n",
       "    .dataframe thead th {\n",
       "        text-align: right;\n",
       "    }\n",
       "</style>\n",
       "<table border=\"1\" class=\"dataframe\">\n",
       "  <thead>\n",
       "    <tr style=\"text-align: right;\">\n",
       "      <th></th>\n",
       "      <th>Fecha</th>\n",
       "      <th>Tiempo</th>\n",
       "      <th>Latitud</th>\n",
       "      <th>Longitud</th>\n",
       "      <th>Region</th>\n",
       "    </tr>\n",
       "  </thead>\n",
       "  <tbody>\n",
       "    <tr>\n",
       "      <th>0</th>\n",
       "      <td>2020-11-14</td>\n",
       "      <td>03:27:44.8</td>\n",
       "      <td>18.31 N</td>\n",
       "      <td>67.61 W</td>\n",
       "      <td>MONA PASSAGE, PUERTO RICO</td>\n",
       "    </tr>\n",
       "    <tr>\n",
       "      <th>1</th>\n",
       "      <td>2020-11-14</td>\n",
       "      <td>03:01:40.6</td>\n",
       "      <td>38.14 N</td>\n",
       "      <td>117.96 W</td>\n",
       "      <td>NEVADA</td>\n",
       "    </tr>\n",
       "    <tr>\n",
       "      <th>2</th>\n",
       "      <td>2020-11-14</td>\n",
       "      <td>03:00:53.0</td>\n",
       "      <td>7.94 S</td>\n",
       "      <td>111.72 E</td>\n",
       "      <td>JAVA, INDONESIA</td>\n",
       "    </tr>\n",
       "    <tr>\n",
       "      <th>3</th>\n",
       "      <td>2020-11-14</td>\n",
       "      <td>02:42:13.0</td>\n",
       "      <td>9.57 S</td>\n",
       "      <td>120.07 E</td>\n",
       "      <td>SUMBA REGION, INDONESIA</td>\n",
       "    </tr>\n",
       "    <tr>\n",
       "      <th>4</th>\n",
       "      <td>2020-11-14</td>\n",
       "      <td>02:33:04.0</td>\n",
       "      <td>38.20 N</td>\n",
       "      <td>117.79 W</td>\n",
       "      <td>NEVADA</td>\n",
       "    </tr>\n",
       "    <tr>\n",
       "      <th>5</th>\n",
       "      <td>2020-11-14</td>\n",
       "      <td>02:10:33.0</td>\n",
       "      <td>4.24 N</td>\n",
       "      <td>126.60 E</td>\n",
       "      <td>KEPULAUAN TALAUD, INDONESIA</td>\n",
       "    </tr>\n",
       "    <tr>\n",
       "      <th>6</th>\n",
       "      <td>2020-11-14</td>\n",
       "      <td>01:53:32.0</td>\n",
       "      <td>20.23 S</td>\n",
       "      <td>70.84 W</td>\n",
       "      <td>OFFSHORE TARAPACA, CHILE</td>\n",
       "    </tr>\n",
       "    <tr>\n",
       "      <th>7</th>\n",
       "      <td>2020-11-14</td>\n",
       "      <td>01:51:47.0</td>\n",
       "      <td>2.82 S</td>\n",
       "      <td>127.79 E</td>\n",
       "      <td>CERAM SEA, INDONESIA</td>\n",
       "    </tr>\n",
       "    <tr>\n",
       "      <th>8</th>\n",
       "      <td>2020-11-14</td>\n",
       "      <td>01:38:30.4</td>\n",
       "      <td>39.53 N</td>\n",
       "      <td>20.54 E</td>\n",
       "      <td>GREECE</td>\n",
       "    </tr>\n",
       "    <tr>\n",
       "      <th>9</th>\n",
       "      <td>2020-11-14</td>\n",
       "      <td>01:33:15.8</td>\n",
       "      <td>62.36 S</td>\n",
       "      <td>58.23 W</td>\n",
       "      <td>SOUTH SHETLAND ISLANDS</td>\n",
       "    </tr>\n",
       "    <tr>\n",
       "      <th>10</th>\n",
       "      <td>2020-11-14</td>\n",
       "      <td>01:21:50.0</td>\n",
       "      <td>1.92 N</td>\n",
       "      <td>97.06 E</td>\n",
       "      <td>NIAS REGION, INDONESIA</td>\n",
       "    </tr>\n",
       "    <tr>\n",
       "      <th>11</th>\n",
       "      <td>2020-11-14</td>\n",
       "      <td>01:12:47.8</td>\n",
       "      <td>37.86 N</td>\n",
       "      <td>27.00 E</td>\n",
       "      <td>WESTERN TURKEY</td>\n",
       "    </tr>\n",
       "    <tr>\n",
       "      <th>12</th>\n",
       "      <td>2020-11-14</td>\n",
       "      <td>00:56:54.9</td>\n",
       "      <td>38.19 N</td>\n",
       "      <td>117.76 W</td>\n",
       "      <td>NEVADA</td>\n",
       "    </tr>\n",
       "    <tr>\n",
       "      <th>13</th>\n",
       "      <td>2020-11-14</td>\n",
       "      <td>00:30:20.0</td>\n",
       "      <td>21.15 S</td>\n",
       "      <td>68.69 W</td>\n",
       "      <td>ANTOFAGASTA, CHILE</td>\n",
       "    </tr>\n",
       "    <tr>\n",
       "      <th>14</th>\n",
       "      <td>2020-11-14</td>\n",
       "      <td>00:27:29.0</td>\n",
       "      <td>30.42 S</td>\n",
       "      <td>71.51 W</td>\n",
       "      <td>COQUIMBO, CHILE</td>\n",
       "    </tr>\n",
       "    <tr>\n",
       "      <th>15</th>\n",
       "      <td>2020-11-14</td>\n",
       "      <td>00:23:52.0</td>\n",
       "      <td>8.97 N</td>\n",
       "      <td>126.41 E</td>\n",
       "      <td>MINDANAO, PHILIPPINES</td>\n",
       "    </tr>\n",
       "    <tr>\n",
       "      <th>16</th>\n",
       "      <td>2020-11-14</td>\n",
       "      <td>00:23:24.6</td>\n",
       "      <td>39.57 N</td>\n",
       "      <td>39.91 E</td>\n",
       "      <td>EASTERN TURKEY</td>\n",
       "    </tr>\n",
       "    <tr>\n",
       "      <th>17</th>\n",
       "      <td>2020-11-14</td>\n",
       "      <td>00:12:24.0</td>\n",
       "      <td>36.98 S</td>\n",
       "      <td>72.15 W</td>\n",
       "      <td>BIO-BIO, CHILE</td>\n",
       "    </tr>\n",
       "    <tr>\n",
       "      <th>18</th>\n",
       "      <td>2020-11-14</td>\n",
       "      <td>00:07:38.0</td>\n",
       "      <td>18.74 N</td>\n",
       "      <td>69.53 W</td>\n",
       "      <td>DOMINICAN REPUBLIC</td>\n",
       "    </tr>\n",
       "    <tr>\n",
       "      <th>19</th>\n",
       "      <td>2020-11-13</td>\n",
       "      <td>23:51:48.0</td>\n",
       "      <td>38.20 N</td>\n",
       "      <td>117.80 W</td>\n",
       "      <td>NEVADA</td>\n",
       "    </tr>\n",
       "  </tbody>\n",
       "</table>\n",
       "</div>"
      ],
      "text/plain": [
       "         Fecha      Tiempo  Latitud  Longitud                       Region\n",
       "0   2020-11-14  03:27:44.8  18.31 N   67.61 W    MONA PASSAGE, PUERTO RICO\n",
       "1   2020-11-14  03:01:40.6  38.14 N  117.96 W                       NEVADA\n",
       "2   2020-11-14  03:00:53.0   7.94 S  111.72 E              JAVA, INDONESIA\n",
       "3   2020-11-14  02:42:13.0   9.57 S  120.07 E      SUMBA REGION, INDONESIA\n",
       "4   2020-11-14  02:33:04.0  38.20 N  117.79 W                       NEVADA\n",
       "5   2020-11-14  02:10:33.0   4.24 N  126.60 E  KEPULAUAN TALAUD, INDONESIA\n",
       "6   2020-11-14  01:53:32.0  20.23 S   70.84 W     OFFSHORE TARAPACA, CHILE\n",
       "7   2020-11-14  01:51:47.0   2.82 S  127.79 E         CERAM SEA, INDONESIA\n",
       "8   2020-11-14  01:38:30.4  39.53 N   20.54 E                       GREECE\n",
       "9   2020-11-14  01:33:15.8  62.36 S   58.23 W       SOUTH SHETLAND ISLANDS\n",
       "10  2020-11-14  01:21:50.0   1.92 N   97.06 E       NIAS REGION, INDONESIA\n",
       "11  2020-11-14  01:12:47.8  37.86 N   27.00 E               WESTERN TURKEY\n",
       "12  2020-11-14  00:56:54.9  38.19 N  117.76 W                       NEVADA\n",
       "13  2020-11-14  00:30:20.0  21.15 S   68.69 W           ANTOFAGASTA, CHILE\n",
       "14  2020-11-14  00:27:29.0  30.42 S   71.51 W              COQUIMBO, CHILE\n",
       "15  2020-11-14  00:23:52.0   8.97 N  126.41 E        MINDANAO, PHILIPPINES\n",
       "16  2020-11-14  00:23:24.6  39.57 N   39.91 E               EASTERN TURKEY\n",
       "17  2020-11-14  00:12:24.0  36.98 S   72.15 W               BIO-BIO, CHILE\n",
       "18  2020-11-14  00:07:38.0  18.74 N   69.53 W           DOMINICAN REPUBLIC\n",
       "19  2020-11-13  23:51:48.0  38.20 N  117.80 W                       NEVADA"
      ]
     },
     "execution_count": 45,
     "metadata": {},
     "output_type": "execute_result"
    }
   ],
   "source": [
    "#your code\n",
    "html6 = requests.get(url6).content\n",
    "info = pd.read_html(html6)\n",
    "#info\n",
    "soup6 = BeautifulSoup(html6, 'lxml')\n",
    "#soup6\n",
    "info_soup = soup6.find_all('tr', {'class':['ligne1 normal', 'ligne2 normal']})\n",
    "#cada row dentro de tr que es donde están los datos, se zigzaguea con ligne1 normal y ligne2 normal\n",
    "tabla = [info_soup[i].select('td') for i in range(20)]\n",
    "#dentro de cada clase ligne, los datos se guardan en un td, y posterior una calse, por eso iteramos\n",
    "tabla_data = [pd.DataFrame(row) for row in tabla]\n",
    "#tabla_data, convertimos en Dataframe\n",
    "\n",
    "tabla_df = []\n",
    "for row in tabla_data:\n",
    "    fecha = re.findall(r'\\d{4}-\\d{2}-\\d{2}', row[0][3].text)[0]\n",
    "    #aqui estamos diciendo con regues que me traiga un numero de 4 digitos,un guin, un numero de 2 digitos,guion y numero de 2 digitos\n",
    "    #Row [0] quiere decir el primer elemento de la lista, y dentro de ese primer elemento es la lista [3]\n",
    "    tiempo = re.findall(r'\\d{2}:\\d{2}:\\d{2}.\\d', row[0][3].text)[0]\n",
    "    latitud = ' '.join([row[0][4].text.strip(), row[0][5].text.strip()])\n",
    "    #Row [0] quiere decir el primer elemento de la lista, y dentro de ese primer elemento latitud es el 4º y 5º elemento\n",
    "    longitud = ' '.join([row[0][6].text.strip(), row[0][7].text.strip()])\n",
    "    #Row [0] quiere decir el primer elemento de la lista, y dentro de ese primer elemento longitud es el 6º y 7º elemento\n",
    "    region = row[0][11].text.strip()\n",
    "    #Row [0] quiere decir el primer elemento de la lista, y dentro de ese primer elemento latitud es el 11º elemento\n",
    "    tabla_df.append([fecha,tiempo,latitud,longitud,region])\n",
    "\n",
    "df = pd.DataFrame(tabla_df, columns=['Fecha','Tiempo','Latitud','Longitud','Region'])\n",
    "df"
   ]
  },
  {
   "cell_type": "markdown",
   "metadata": {},
   "source": [
    "#### Display the date, days, title, city, country of next 25 hackathon events as a Pandas dataframe table"
   ]
  },
  {
   "cell_type": "code",
   "execution_count": null,
   "metadata": {},
   "outputs": [],
   "source": [
    "# This is the url you will scrape in this exercise\n",
    "url7 ='https://hackevents.co/hackathons'"
   ]
  },
  {
   "cell_type": "code",
   "execution_count": null,
   "metadata": {},
   "outputs": [],
   "source": [
    "#your code\n"
   ]
  },
  {
   "cell_type": "markdown",
   "metadata": {},
   "source": [
    "#### Count number of tweets by a given Twitter account."
   ]
  },
  {
   "cell_type": "markdown",
   "metadata": {},
   "source": [
    "You will need to include a ***try/except block*** for account names not found. \n",
    "<br>***Hint:*** the program should count the number of tweets for any provided account"
   ]
  },
  {
   "cell_type": "code",
   "execution_count": 19,
   "metadata": {},
   "outputs": [],
   "source": [
    "# This is the url you will scrape in this exercise \n",
    "# You will need to add the account credentials to this url\n",
    "url = 'https://twitter.com/'"
   ]
  },
  {
   "cell_type": "code",
   "execution_count": 20,
   "metadata": {},
   "outputs": [],
   "source": [
    "#your code"
   ]
  },
  {
   "cell_type": "markdown",
   "metadata": {},
   "source": [
    "#### Number of followers of a given twitter account"
   ]
  },
  {
   "cell_type": "markdown",
   "metadata": {},
   "source": [
    "You will need to include a ***try/except block*** in case account/s name not found. \n",
    "<br>***Hint:*** the program should count the followers for any provided account"
   ]
  },
  {
   "cell_type": "code",
   "execution_count": 21,
   "metadata": {},
   "outputs": [],
   "source": [
    "# This is the url you will scrape in this exercise \n",
    "# You will need to add the account credentials to this url\n",
    "url = 'https://twitter.com/'"
   ]
  },
  {
   "cell_type": "code",
   "execution_count": 22,
   "metadata": {},
   "outputs": [],
   "source": [
    "#your code"
   ]
  },
  {
   "cell_type": "markdown",
   "metadata": {},
   "source": [
    "#### List all language names and number of related articles in the order they appear in wikipedia.org"
   ]
  },
  {
   "cell_type": "code",
   "execution_count": 50,
   "metadata": {},
   "outputs": [],
   "source": [
    "# This is the url you will scrape in this exercise\n",
    "url8 = 'https://www.wikipedia.org/'"
   ]
  },
  {
   "cell_type": "code",
   "execution_count": 84,
   "metadata": {},
   "outputs": [
    {
     "name": "stdout",
     "output_type": "stream",
     "text": [
      "['English', '6,183,000 articles']\n",
      "['Español', '1,637,000 artículos']\n",
      "['日本語', '1,235,000 記事']\n",
      "['Deutsch', '2,495,000 Artikel']\n",
      "['Русский', '1,672,000 статей']\n",
      "['Français', '2,262,000 articles']\n",
      "['Italiano', '1,645,000 voci']\n",
      "['中文', '1,155,000 條目']\n",
      "['Português', '1,045,000 artigos']\n",
      "['Polski', '1,435,000 haseł']\n"
     ]
    }
   ],
   "source": [
    "#your code\n",
    "html8 = requests.get(url8).content\n",
    "soup8 = BeautifulSoup(html8, 'lxml')\n",
    "idiomas = soup8.select('div[class=\"central-featured\"] strong')\n",
    "idiomas1 = [element.text.strip() for element in idiomas]\n",
    "#Todos los idiomas están dentro de una iteracion de la clase: central-featured-lang lang1,\n",
    "#es por eso que solo pongo central-featured, donde el idioma está dentro de la etiqueta strong\n",
    "num_articulos = soup8.select('div[class=\"central-featured\"] small')\n",
    "#lo mismo que el caso anterior pero dentro de la etiqueta small\n",
    "num_articulos1 = [element.text.strip() for element in num_articulos]\n",
    "#num_articulos1\n",
    "clean_articulos = []\n",
    "for element in num_articulos1:\n",
    "   clean = re.sub('\\xa0',',',re.sub('\\+','',element)).strip()\n",
    "   clean_articulos.append(clean)\n",
    "    #aqui sustituimos  \\xa0 en cada uno de los elementos de los articulos, ya que estaban como\n",
    "    #6\\xa0183\\xa0000 y quitamos el +\n",
    "\n",
    "    \n",
    "#clean_articulos\n",
    "resultado = zip(idiomas1,clean_articulos)\n",
    "for result in resultado:\n",
    "    print(list(result))\n",
    "\n",
    "\n"
   ]
  },
  {
   "cell_type": "markdown",
   "metadata": {},
   "source": [
    "#### A list with the different kind of datasets available in data.gov.uk "
   ]
  },
  {
   "cell_type": "code",
   "execution_count": 85,
   "metadata": {},
   "outputs": [],
   "source": [
    "# This is the url you will scrape in this exercise\n",
    "url9 = 'https://data.gov.uk/'"
   ]
  },
  {
   "cell_type": "code",
   "execution_count": 87,
   "metadata": {},
   "outputs": [
    {
     "data": {
      "text/plain": [
       "['Business and economy',\n",
       " 'Crime and justice',\n",
       " 'Defence',\n",
       " 'Education',\n",
       " 'Environment',\n",
       " 'Government',\n",
       " 'Government spending',\n",
       " 'Health',\n",
       " 'Mapping',\n",
       " 'Society',\n",
       " 'Towns and cities',\n",
       " 'Transport']"
      ]
     },
     "execution_count": 87,
     "metadata": {},
     "output_type": "execute_result"
    }
   ],
   "source": [
    "#your code \n",
    "html9 = requests.get(url9).content\n",
    "soup9 = BeautifulSoup(html9, 'lxml')\n",
    "lista = soup9.select('div[class=\"govuk-grid-column-full\"] h3')\n",
    "#lista\n",
    "lista_limpia = [element.text.strip() for element in lista]\n",
    "lista_limpia"
   ]
  },
  {
   "cell_type": "markdown",
   "metadata": {},
   "source": [
    "#### Top 10 languages by number of native speakers stored in a Pandas Dataframe"
   ]
  },
  {
   "cell_type": "code",
   "execution_count": 105,
   "metadata": {},
   "outputs": [],
   "source": [
    "# This is the url you will scrape in this exercise\n",
    "urls= 'https://en.wikipedia.org/wiki/List_of_languages_by_number_of_native_speakers'"
   ]
  },
  {
   "cell_type": "code",
   "execution_count": 117,
   "metadata": {},
   "outputs": [
    {
     "data": {
      "text/html": [
       "<div>\n",
       "<style scoped>\n",
       "    .dataframe tbody tr th:only-of-type {\n",
       "        vertical-align: middle;\n",
       "    }\n",
       "\n",
       "    .dataframe tbody tr th {\n",
       "        vertical-align: top;\n",
       "    }\n",
       "\n",
       "    .dataframe thead th {\n",
       "        text-align: right;\n",
       "    }\n",
       "</style>\n",
       "<table border=\"1\" class=\"dataframe\">\n",
       "  <thead>\n",
       "    <tr style=\"text-align: right;\">\n",
       "      <th></th>\n",
       "      <th>Language</th>\n",
       "      <th>Nativespeakersin millions2007 (2010)</th>\n",
       "      <th>Percentageof worldpopulation(2007)</th>\n",
       "    </tr>\n",
       "    <tr>\n",
       "      <th>Rank</th>\n",
       "      <th></th>\n",
       "      <th></th>\n",
       "      <th></th>\n",
       "    </tr>\n",
       "  </thead>\n",
       "  <tbody>\n",
       "    <tr>\n",
       "      <th>1</th>\n",
       "      <td>Mandarin (entire branch)</td>\n",
       "      <td>935 (955)</td>\n",
       "      <td>14.1%</td>\n",
       "    </tr>\n",
       "    <tr>\n",
       "      <th>2</th>\n",
       "      <td>Spanish</td>\n",
       "      <td>390 (405)</td>\n",
       "      <td>5.85%</td>\n",
       "    </tr>\n",
       "    <tr>\n",
       "      <th>3</th>\n",
       "      <td>English</td>\n",
       "      <td>365 (360)</td>\n",
       "      <td>5.52%</td>\n",
       "    </tr>\n",
       "    <tr>\n",
       "      <th>4</th>\n",
       "      <td>Hindi[a]</td>\n",
       "      <td>295 (310)</td>\n",
       "      <td>4.46%</td>\n",
       "    </tr>\n",
       "    <tr>\n",
       "      <th>5</th>\n",
       "      <td>Arabic</td>\n",
       "      <td>280 (295)</td>\n",
       "      <td>4.23%</td>\n",
       "    </tr>\n",
       "    <tr>\n",
       "      <th>6</th>\n",
       "      <td>Portuguese</td>\n",
       "      <td>205 (215)</td>\n",
       "      <td>3.08%</td>\n",
       "    </tr>\n",
       "    <tr>\n",
       "      <th>7</th>\n",
       "      <td>Bengali</td>\n",
       "      <td>200 (205)</td>\n",
       "      <td>3.05%</td>\n",
       "    </tr>\n",
       "    <tr>\n",
       "      <th>8</th>\n",
       "      <td>Russian</td>\n",
       "      <td>160 (155)</td>\n",
       "      <td>2.42%</td>\n",
       "    </tr>\n",
       "    <tr>\n",
       "      <th>9</th>\n",
       "      <td>Japanese</td>\n",
       "      <td>125 (125)</td>\n",
       "      <td>1.92%</td>\n",
       "    </tr>\n",
       "    <tr>\n",
       "      <th>10</th>\n",
       "      <td>Punjabi</td>\n",
       "      <td>95 (100)</td>\n",
       "      <td>1.44%</td>\n",
       "    </tr>\n",
       "  </tbody>\n",
       "</table>\n",
       "</div>"
      ],
      "text/plain": [
       "                      Language Nativespeakersin millions2007 (2010)  \\\n",
       "Rank                                                                  \n",
       "1     Mandarin (entire branch)                            935 (955)   \n",
       "2                      Spanish                            390 (405)   \n",
       "3                      English                            365 (360)   \n",
       "4                     Hindi[a]                            295 (310)   \n",
       "5                       Arabic                            280 (295)   \n",
       "6                   Portuguese                            205 (215)   \n",
       "7                      Bengali                            200 (205)   \n",
       "8                      Russian                            160 (155)   \n",
       "9                     Japanese                            125 (125)   \n",
       "10                     Punjabi                             95 (100)   \n",
       "\n",
       "     Percentageof worldpopulation(2007)  \n",
       "Rank                                     \n",
       "1                                 14.1%  \n",
       "2                                 5.85%  \n",
       "3                                 5.52%  \n",
       "4                                 4.46%  \n",
       "5                                 4.23%  \n",
       "6                                 3.08%  \n",
       "7                                 3.05%  \n",
       "8                                 2.42%  \n",
       "9                                 1.92%  \n",
       "10                                1.44%  "
      ]
     },
     "execution_count": 117,
     "metadata": {},
     "output_type": "execute_result"
    }
   ],
   "source": [
    "#your code\n",
    "htmls = requests.get(urls).content\n",
    "tabla = pd.read_html(htmls)\n",
    "#tabla\n",
    "#al imprimir tabla, la tabla con index [0] es la que muestra la población total, posterior, el elemento con indes [1] es un texto\n",
    "#por eso la tabla con index [2] es la correcta que muestra el numero de hablantes nativos por idioma\n",
    "rows = data[2][:10].set_index('Rank')\n",
    "#set_index es la columna por la que se rige la tabla, en este caso tomaos el rank donde al poner [:10] mencionamos\n",
    "#que solo nos de los primeros 10 elementos \n",
    "rows\n"
   ]
  },
  {
   "cell_type": "markdown",
   "metadata": {},
   "source": [
    "### BONUS QUESTIONS"
   ]
  },
  {
   "cell_type": "markdown",
   "metadata": {},
   "source": [
    "#### Scrape a certain number of tweets of a given Twitter account."
   ]
  },
  {
   "cell_type": "code",
   "execution_count": 29,
   "metadata": {},
   "outputs": [],
   "source": [
    "# This is the url you will scrape in this exercise \n",
    "# You will need to add the account credentials to this url\n",
    "url = 'https://twitter.com/'"
   ]
  },
  {
   "cell_type": "code",
   "execution_count": 30,
   "metadata": {},
   "outputs": [],
   "source": [
    "# your code"
   ]
  },
  {
   "cell_type": "markdown",
   "metadata": {},
   "source": [
    "#### IMDB's Top 250 data (movie name, Initial release, director name and stars) as a pandas dataframe"
   ]
  },
  {
   "cell_type": "code",
   "execution_count": 31,
   "metadata": {},
   "outputs": [],
   "source": [
    "# This is the url you will scrape in this exercise \n",
    "url = 'https://www.imdb.com/chart/top'"
   ]
  },
  {
   "cell_type": "code",
   "execution_count": 32,
   "metadata": {},
   "outputs": [],
   "source": [
    "# your code"
   ]
  },
  {
   "cell_type": "markdown",
   "metadata": {},
   "source": [
    "#### Movie name, year and a brief summary of the top 10 random movies (IMDB) as a pandas dataframe."
   ]
  },
  {
   "cell_type": "code",
   "execution_count": 33,
   "metadata": {},
   "outputs": [],
   "source": [
    "#This is the url you will scrape in this exercise\n",
    "url = 'http://www.imdb.com/chart/top'"
   ]
  },
  {
   "cell_type": "code",
   "execution_count": 34,
   "metadata": {},
   "outputs": [],
   "source": [
    "#your code"
   ]
  },
  {
   "cell_type": "markdown",
   "metadata": {},
   "source": [
    "#### Find the live weather report (temperature, wind speed, description and weather) of a given city."
   ]
  },
  {
   "cell_type": "code",
   "execution_count": 35,
   "metadata": {},
   "outputs": [
    {
     "name": "stdout",
     "output_type": "stream",
     "text": [
      "Enter the city:mexico\n"
     ]
    }
   ],
   "source": [
    "#https://openweathermap.org/current\n",
    "city = city=input('Enter the city:')\n",
    "url = 'http://api.openweathermap.org/data/2.5/weather?'+'q='+city+'&APPID=b35975e18dc93725acb092f7272cc6b8&units=metric'"
   ]
  },
  {
   "cell_type": "code",
   "execution_count": 36,
   "metadata": {},
   "outputs": [],
   "source": [
    "# your code"
   ]
  },
  {
   "cell_type": "markdown",
   "metadata": {},
   "source": [
    "#### Book name,price and stock availability as a pandas dataframe."
   ]
  },
  {
   "cell_type": "code",
   "execution_count": 37,
   "metadata": {},
   "outputs": [],
   "source": [
    "# This is the url you will scrape in this exercise. \n",
    "# It is a fictional bookstore created to be scraped. \n",
    "url = 'http://books.toscrape.com/'"
   ]
  },
  {
   "cell_type": "code",
   "execution_count": 38,
   "metadata": {},
   "outputs": [],
   "source": [
    "#your code"
   ]
  }
 ],
 "metadata": {
  "kernelspec": {
   "display_name": "Python 3",
   "language": "python",
   "name": "python3"
  },
  "language_info": {
   "codemirror_mode": {
    "name": "ipython",
    "version": 3
   },
   "file_extension": ".py",
   "mimetype": "text/x-python",
   "name": "python",
   "nbconvert_exporter": "python",
   "pygments_lexer": "ipython3",
   "version": "3.8.5"
  }
 },
 "nbformat": 4,
 "nbformat_minor": 2
}
