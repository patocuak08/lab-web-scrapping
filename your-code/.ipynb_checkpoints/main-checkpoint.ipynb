{
 "cells": [
  {
   "cell_type": "markdown",
   "metadata": {},
   "source": [
    "# Web Scraping Lab\n",
    "\n",
    "You will find in this notebook some scrapy exercises to practise your scraping skills.\n",
    "\n",
    "**Tips:**\n",
    "\n",
    "- Check the response status code for each request to ensure you have obtained the intended contennt.\n",
    "- Print the response text in each request to understand the kind of info you are getting and its format.\n",
    "- Check for patterns in the response text to extract the data/info requested in each question.\n",
    "- Visit each url and take a look at its source through Chrome DevTools. You'll need to identify the html tags, special class names etc. used for the html content you are expected to extract."
   ]
  },
  {
   "cell_type": "markdown",
   "metadata": {},
   "source": [
    "- [Requests library](http://docs.python-requests.org/en/master/#the-user-guide) documentation \n",
    "- [Beautiful Soup Doc](https://www.crummy.com/software/BeautifulSoup/bs4/doc/)\n",
    "- [Urllib](https://docs.python.org/3/library/urllib.html#module-urllib)\n",
    "- [re lib](https://docs.python.org/3/library/re.html)\n",
    "- [lxml lib](https://lxml.de/)\n",
    "- [Scrapy](https://scrapy.org/)\n",
    "- [List of HTTP status codes](https://en.wikipedia.org/wiki/List_of_HTTP_status_codes)\n",
    "- [HTML basics](http://www.simplehtmlguide.com/cheatsheet.php)\n",
    "- [CSS basics](https://www.cssbasics.com/#page_start)"
   ]
  },
  {
   "cell_type": "markdown",
   "metadata": {},
   "source": [
    "#### Below are the libraries and modules you may need. `requests`,  `BeautifulSoup` and `pandas` are imported for you. If you prefer to use additional libraries feel free to uncomment them."
   ]
  },
  {
   "cell_type": "code",
   "execution_count": 75,
   "metadata": {},
   "outputs": [],
   "source": [
    "import requests\n",
    "from bs4 import BeautifulSoup\n",
    "import pandas as pd\n",
    "# from pprint import pprint\n",
    "# from lxml import html\n",
    "# from lxml.html import fromstring\n",
    "# import urllib.request\n",
    "# from urllib.request import urlopen\n",
    "# import random\n",
    "import re\n",
    "# import scrapy"
   ]
  },
  {
   "cell_type": "markdown",
   "metadata": {},
   "source": [
    "#### Download, parse (using BeautifulSoup), and print the content from the Trending Developers page from GitHub:"
   ]
  },
  {
   "cell_type": "code",
   "execution_count": 3,
   "metadata": {},
   "outputs": [],
   "source": [
    "# This is the url you will scrape in this exercise\n",
    "url = 'https://github.com/trending/developers'\n"
   ]
  },
  {
   "cell_type": "code",
   "execution_count": 32,
   "metadata": {},
   "outputs": [],
   "source": [
    "#your code\n",
    "html = requests.get(url).content\n",
    "html\n",
    "soup = BeautifulSoup(html,'lxml')\n",
    "#soup"
   ]
  },
  {
   "cell_type": "markdown",
   "metadata": {},
   "source": [
    "#### Display the names of the trending developers retrieved in the previous step.\n",
    "\n",
    "Your output should be a Python list of developer names. Each name should not contain any html tag.\n",
    "\n",
    "**Instructions:**\n",
    "\n",
    "1. Find out the html tag and class names used for the developer names. You can achieve this using Chrome DevTools.\n",
    "\n",
    "1. Use BeautifulSoup to extract all the html elements that contain the developer names.\n",
    "\n",
    "1. Use string manipulation techniques to replace whitespaces and linebreaks (i.e. `\\n`) in the *text* of each html element. Use a list to store the clean names.\n",
    "\n",
    "1. Print the list of names.\n",
    "\n",
    "Your output should look like below:\n",
    "\n",
    "```\n",
    "['trimstray (@trimstray)',\n",
    " 'joewalnes (JoeWalnes)',\n",
    " 'charlax (Charles-AxelDein)',\n",
    " 'ForrestKnight (ForrestKnight)',\n",
    " 'revery-ui (revery-ui)',\n",
    " 'alibaba (Alibaba)',\n",
    " 'Microsoft (Microsoft)',\n",
    " 'github (GitHub)',\n",
    " 'facebook (Facebook)',\n",
    " 'boazsegev (Bo)',\n",
    " 'google (Google)',\n",
    " 'cloudfetch',\n",
    " 'sindresorhus (SindreSorhus)',\n",
    " 'tensorflow',\n",
    " 'apache (TheApacheSoftwareFoundation)',\n",
    " 'DevonCrawford (DevonCrawford)',\n",
    " 'ARMmbed (ArmMbed)',\n",
    " 'vuejs (vuejs)',\n",
    " 'fastai (fast.ai)',\n",
    " 'QiShaoXuan (Qi)',\n",
    " 'joelparkerhenderson (JoelParkerHenderson)',\n",
    " 'torvalds (LinusTorvalds)',\n",
    " 'CyC2018',\n",
    " 'komeiji-satori (神楽坂覚々)',\n",
    " 'script-8']\n",
    " ```"
   ]
  },
  {
   "cell_type": "code",
   "execution_count": 56,
   "metadata": {},
   "outputs": [
    {
     "name": "stdout",
     "output_type": "stream",
     "text": [
      "25\n",
      "25\n",
      "['Michał Osadnik', 'osdnk']\n",
      "['Matthias Urhahn', 'd4rken']\n",
      "['Arvid Norberg', 'arvidn']\n",
      "['Jed Watson', 'JedWatson']\n",
      "['Mike Hardy', 'mikehardy']\n",
      "['Pariente Manuel', 'mpariente']\n",
      "['Kevin Papst', 'kevinpapst']\n",
      "['Magnus Edenhill', 'edenhill']\n",
      "['Jonah Williams', 'jonahwilliams']\n",
      "['Jared Palmer', 'jaredpalmer']\n",
      "['Ariel Mashraki', 'a8m']\n",
      "['Gleb Bahmutov', 'bahmutov']\n",
      "['Ashley Hauck', 'khyperia']\n",
      "['Mislav Marohnić', 'mislav']\n",
      "['Mladen Macanović', 'stsrki']\n",
      "['Satyajit Sahoo', 'satya164']\n",
      "['Jonathan Dick', 'Redth']\n",
      "['Jayden Seric', 'jaydenseric']\n",
      "['Daniel Vaz Gaspar', 'dpgaspar']\n",
      "['Paul Le Cam', 'PaulLeCam']\n",
      "['Brad Fitzpatrick', 'bradfitz']\n",
      "['Luke Latham', 'guardrex']\n",
      "['Miguel Ruivo', 'miguelpruivo']\n",
      "['Henrik Rydgård', 'hrydgard']\n",
      "['Aral Roca Gomez', 'aralroca']\n"
     ]
    }
   ],
   "source": [
    "#your code\n",
    "#tags = ['h1']\n",
    "#elements = [element.text for element in soup.find_all(tags)]\n",
    "#elements\n",
    "nombre = soup.select('h1[class=\"h3 lh-condensed\"]')\n",
    "nombre = [element.text.strip() for element in nombre]\n",
    "#nombre\n",
    "alias = soup.select('p[class=\"f4 text-normal mb-1\"]')\n",
    "alias = [element.text.strip() for element in alias]\n",
    "print(len(nombre))\n",
    "print(len(alias))\n",
    "#alias\n",
    "resultado = zip(nombre,alias)\n",
    "for result in resultado:\n",
    "    print(list(result))\n",
    "\n",
    "    \n",
    "    \n",
    "\n",
    "\n",
    "#Sacamos primero los nombres con una clase dentro de h1 y posterior los alias dentrode otra clase en P\n",
    "#posterior se hizo un zip para hacerlos juntos en una lista"
   ]
  },
  {
   "cell_type": "markdown",
   "metadata": {},
   "source": [
    "#### Display the trending Python repositories in GitHub\n",
    "\n",
    "The steps to solve this problem is similar to the previous one except that you need to find out the repository names instead of developer names."
   ]
  },
  {
   "cell_type": "code",
   "execution_count": 60,
   "metadata": {},
   "outputs": [],
   "source": [
    "# This is the url you will scrape in this exercise\n",
    "url1 = 'https://github.com/trending/python?since=daily'"
   ]
  },
  {
   "cell_type": "code",
   "execution_count": 102,
   "metadata": {},
   "outputs": [
    {
     "data": {
      "text/plain": [
       "['donnemartin/system-design-primer',\n",
       " '3b1b/manim',\n",
       " 'apache/airflow',\n",
       " 'willmcgugan/rich',\n",
       " 'cupy/cupy',\n",
       " 'openai/gym',\n",
       " 's0md3v/Photon',\n",
       " 'tychxn/jd-assistant',\n",
       " 'mirumee/saleor',\n",
       " 'Rudrabha/Wav2Lip',\n",
       " 'tiangolo/fastapi',\n",
       " 'google/python-fire',\n",
       " 'pandas-dev/pandas',\n",
       " 'thewhiteh4t/FinalRecon',\n",
       " 'man-group/dtale',\n",
       " 'allenai/allennlp',\n",
       " 'cython/cython',\n",
       " 'danielgatis/rembg',\n",
       " 'espnet/espnet',\n",
       " 'plotly/dash',\n",
       " 'ultralytics/yolov5',\n",
       " 'iperov/DeepFaceLab',\n",
       " 'rajkumardusad/Tool-X',\n",
       " 'd2l-ai/d2l-en',\n",
       " 'facebookresearch/pifuhd']"
      ]
     },
     "execution_count": 102,
     "metadata": {},
     "output_type": "execute_result"
    }
   ],
   "source": [
    "html1 = requests.get(url1).content\n",
    "html1\n",
    "soup1 = BeautifulSoup(html1,'lxml')\n",
    "repositorio = soup1.select('h1[class=\"h3 lh-condensed\"]')\n",
    "repositorio = [element.text.strip() for element in repositorio]\n",
    "clean_repositorio = list()\n",
    "for element in repositorio:\n",
    "    clean = re.sub('\\s+\\W\\s+','/',element).strip()\n",
    "    clean_repositorio.append(clean)\n",
    "    \n",
    "clean_repositorio\n",
    "#soup1\n",
    "\n"
   ]
  },
  {
   "cell_type": "markdown",
   "metadata": {},
   "source": [
    "#### Display all the image links from Walt Disney wikipedia page"
   ]
  },
  {
   "cell_type": "code",
   "execution_count": 93,
   "metadata": {},
   "outputs": [],
   "source": [
    "# This is the url you will scrape in this exercise\n",
    "url2 = 'https://en.wikipedia.org/wiki/Walt_Disney'"
   ]
  },
  {
   "cell_type": "code",
   "execution_count": 109,
   "metadata": {},
   "outputs": [
    {
     "data": {
      "text/plain": [
       "['https://upload.wikimedia.org/wikipedia/en/thumb/e/e7/Cscr-featured.svg/20px-Cscr-featured.svg.png',\n",
       " 'https://upload.wikimedia.org/wikipedia/en/thumb/8/8c/Extended-protection-shackle.svg/20px-Extended-protection-shackle.svg.png',\n",
       " 'https://upload.wikimedia.org/wikipedia/commons/thumb/d/df/Walt_Disney_1946.JPG/220px-Walt_Disney_1946.JPG',\n",
       " 'https://upload.wikimedia.org/wikipedia/commons/thumb/8/87/Walt_Disney_1942_signature.svg/150px-Walt_Disney_1942_signature.svg.png',\n",
       " 'https://upload.wikimedia.org/wikipedia/commons/thumb/c/c4/Walt_Disney_envelope_ca._1921.jpg/220px-Walt_Disney_envelope_ca._1921.jpg']"
      ]
     },
     "execution_count": 109,
     "metadata": {},
     "output_type": "execute_result"
    }
   ],
   "source": [
    "#your code\n",
    "html2 = requests.get(url2).content\n",
    "#html2\n",
    "soup2 = BeautifulSoup(html2,'lxml')\n",
    "#soup2\n",
    "imagenes = soup2.select('div[class=\"thumbinner\"]')\n",
    "imagenes = soup2.select('img')\n",
    "links = [ 'https:' + element.get('src') for element in imagenes]\n",
    "links[:5]\n"
   ]
  },
  {
   "cell_type": "markdown",
   "metadata": {},
   "source": [
    "#### Retrieve an arbitary Wikipedia page of \"Python\" and create a list of links on that page"
   ]
  },
  {
   "cell_type": "code",
   "execution_count": 111,
   "metadata": {},
   "outputs": [],
   "source": [
    "# This is the url you will scrape in this exercise\n",
    "url3 ='https://en.wikipedia.org/wiki/Python' "
   ]
  },
  {
   "cell_type": "code",
   "execution_count": 119,
   "metadata": {},
   "outputs": [
    {
     "data": {
      "text/html": [
       "<div>\n",
       "<style scoped>\n",
       "    .dataframe tbody tr th:only-of-type {\n",
       "        vertical-align: middle;\n",
       "    }\n",
       "\n",
       "    .dataframe tbody tr th {\n",
       "        vertical-align: top;\n",
       "    }\n",
       "\n",
       "    .dataframe thead th {\n",
       "        text-align: right;\n",
       "    }\n",
       "</style>\n",
       "<table border=\"1\" class=\"dataframe\">\n",
       "  <thead>\n",
       "    <tr style=\"text-align: right;\">\n",
       "      <th></th>\n",
       "      <th>links</th>\n",
       "    </tr>\n",
       "  </thead>\n",
       "  <tbody>\n",
       "    <tr>\n",
       "      <th>0</th>\n",
       "      <td>https://en.wiktionary.org/wiki/Python</td>\n",
       "    </tr>\n",
       "    <tr>\n",
       "      <th>1</th>\n",
       "      <td>https://en.wiktionary.org/wiki/python</td>\n",
       "    </tr>\n",
       "    <tr>\n",
       "      <th>2</th>\n",
       "      <td>/wiki/Pythons</td>\n",
       "    </tr>\n",
       "    <tr>\n",
       "      <th>3</th>\n",
       "      <td>/wiki/Python_(genus)</td>\n",
       "    </tr>\n",
       "    <tr>\n",
       "      <th>4</th>\n",
       "      <td>/w/index.php?title=Python&amp;action=edit&amp;section=1</td>\n",
       "    </tr>\n",
       "    <tr>\n",
       "      <th>...</th>\n",
       "      <td>...</td>\n",
       "    </tr>\n",
       "    <tr>\n",
       "      <th>137</th>\n",
       "      <td>https://www.mediawiki.org/wiki/Special:MyLangu...</td>\n",
       "    </tr>\n",
       "    <tr>\n",
       "      <th>138</th>\n",
       "      <td>https://stats.wikimedia.org/#/en.wikipedia.org</td>\n",
       "    </tr>\n",
       "    <tr>\n",
       "      <th>139</th>\n",
       "      <td>https://foundation.wikimedia.org/wiki/Cookie_s...</td>\n",
       "    </tr>\n",
       "    <tr>\n",
       "      <th>140</th>\n",
       "      <td>https://wikimediafoundation.org/</td>\n",
       "    </tr>\n",
       "    <tr>\n",
       "      <th>141</th>\n",
       "      <td>https://www.mediawiki.org/</td>\n",
       "    </tr>\n",
       "  </tbody>\n",
       "</table>\n",
       "<p>142 rows × 1 columns</p>\n",
       "</div>"
      ],
      "text/plain": [
       "                                                 links\n",
       "0                https://en.wiktionary.org/wiki/Python\n",
       "1                https://en.wiktionary.org/wiki/python\n",
       "2                                        /wiki/Pythons\n",
       "3                                 /wiki/Python_(genus)\n",
       "4      /w/index.php?title=Python&action=edit&section=1\n",
       "..                                                 ...\n",
       "137  https://www.mediawiki.org/wiki/Special:MyLangu...\n",
       "138     https://stats.wikimedia.org/#/en.wikipedia.org\n",
       "139  https://foundation.wikimedia.org/wiki/Cookie_s...\n",
       "140                   https://wikimediafoundation.org/\n",
       "141                         https://www.mediawiki.org/\n",
       "\n",
       "[142 rows x 1 columns]"
      ]
     },
     "execution_count": 119,
     "metadata": {},
     "output_type": "execute_result"
    }
   ],
   "source": [
    "#your code\n",
    "html3 = requests.get(url3).content\n",
    "#html3\n",
    "soup3 = BeautifulSoup(html3,'lxml')\n",
    "#soup3\n",
    "links_paginas = [ element.get('href') for element in soup3.findAll('a') ]\n",
    "#estamos solicitando todos los elementos href dentro de a\n",
    "links_paginas.remove(None)\n",
    "#removimos la palabra none\n",
    "links_paginas\n",
    "\n",
    "eliminar = re.compile(r'#')\n",
    "links_pagina = [element\n",
    "            for element in links_paginas \n",
    "            if not eliminar.match(element)]\n",
    "#pedimos que elimine todos los elementos que coincidan con el signo #\n",
    "\n",
    "links_pagina = pd.DataFrame(links_pagina, columns = ['links'])\n",
    "links_pagina\n",
    "#lo convertimos a tabla\n",
    "\n",
    "\n",
    "\n",
    "#https://relopezbriega.github.io/blog/2015/07/19/expresiones-regulares-con-python/"
   ]
  },
  {
   "cell_type": "markdown",
   "metadata": {},
   "source": [
    "#### Number of Titles that have changed in the United States Code since its last release point "
   ]
  },
  {
   "cell_type": "code",
   "execution_count": 120,
   "metadata": {},
   "outputs": [],
   "source": [
    "# This is the url you will scrape in this exercise\n",
    "url4 = 'http://uscode.house.gov/download/download.shtml'"
   ]
  },
  {
   "cell_type": "code",
   "execution_count": 127,
   "metadata": {},
   "outputs": [
    {
     "data": {
      "text/plain": [
       "299"
      ]
     },
     "execution_count": 127,
     "metadata": {},
     "output_type": "execute_result"
    }
   ],
   "source": [
    "#your code\n",
    "html4 = requests.get(url4).content\n",
    "#html3\n",
    "soup4 = BeautifulSoup(html4,'lxml')\n",
    "#soup3\n",
    "actualizaciones = [ element.get('href=#fn') for element in soup4.findAll('a') ]\n",
    "len(actualizaciones)"
   ]
  },
  {
   "cell_type": "markdown",
   "metadata": {},
   "source": [
    "#### A Python list with the top ten FBI's Most Wanted names "
   ]
  },
  {
   "cell_type": "code",
   "execution_count": 128,
   "metadata": {},
   "outputs": [],
   "source": [
    "# This is the url you will scrape in this exercise\n",
    "url5 = 'https://www.fbi.gov/wanted/topten'"
   ]
  },
  {
   "cell_type": "code",
   "execution_count": 136,
   "metadata": {},
   "outputs": [
    {
     "data": {
      "text/plain": [
       "['ALEJANDRO ROSALES CASTILLO',\n",
       " 'ARNOLDO JIMENEZ',\n",
       " 'JASON DEREK BROWN',\n",
       " 'ALEXIS FLORES',\n",
       " 'JOSE RODOLFO VILLARREAL-HERNANDEZ',\n",
       " 'EUGENE PALMER',\n",
       " 'RAFAEL CARO-QUINTERO',\n",
       " 'ROBERT WILLIAM FISHER',\n",
       " 'BHADRESHKUMAR CHETANBHAI PATEL',\n",
       " 'YASER ABDEL SAID']"
      ]
     },
     "execution_count": 136,
     "metadata": {},
     "output_type": "execute_result"
    }
   ],
   "source": [
    "#your code \n",
    "html5 = requests.get(url5).content\n",
    "#html3\n",
    "soup5 = BeautifulSoup(html5,'lxml')\n",
    "#soup3\n",
    "nombre = soup5.select('h3[class=\"title\"]')\n",
    "nombre = [element.text.strip() for element in nombre]\n",
    "nombre\n"
   ]
  },
  {
   "cell_type": "markdown",
   "metadata": {},
   "source": [
    "####  20 latest earthquakes info (date, time, latitude, longitude and region name) by the EMSC as a pandas dataframe"
   ]
  },
  {
   "cell_type": "code",
   "execution_count": 137,
   "metadata": {},
   "outputs": [],
   "source": [
    "# This is the url you will scrape in this exercise\n",
    "url6 = 'https://www.emsc-csem.org/Earthquake/'"
   ]
  },
  {
   "cell_type": "code",
   "execution_count": 150,
   "metadata": {},
   "outputs": [
    {
     "data": {
      "text/html": [
       "<div>\n",
       "<style scoped>\n",
       "    .dataframe tbody tr th:only-of-type {\n",
       "        vertical-align: middle;\n",
       "    }\n",
       "\n",
       "    .dataframe tbody tr th {\n",
       "        vertical-align: top;\n",
       "    }\n",
       "\n",
       "    .dataframe thead tr th {\n",
       "        text-align: left;\n",
       "    }\n",
       "</style>\n",
       "<table border=\"1\" class=\"dataframe\">\n",
       "  <thead>\n",
       "    <tr>\n",
       "      <th></th>\n",
       "      <th>Date &amp; Time UTC</th>\n",
       "      <th colspan=\"2\" halign=\"left\">Latitude degrees</th>\n",
       "      <th colspan=\"2\" halign=\"left\">Longitude degrees</th>\n",
       "      <th>Region name [+]</th>\n",
       "    </tr>\n",
       "    <tr>\n",
       "      <th></th>\n",
       "      <th>12345678910»</th>\n",
       "      <th>12345678910»</th>\n",
       "      <th>12345678910».1</th>\n",
       "      <th>12345678910»</th>\n",
       "      <th>12345678910».1</th>\n",
       "      <th>12345678910»</th>\n",
       "    </tr>\n",
       "  </thead>\n",
       "  <tbody>\n",
       "    <tr>\n",
       "      <th>0</th>\n",
       "      <td>2020-11-13 07:16:52.015min ago</td>\n",
       "      <td>38.56</td>\n",
       "      <td>S</td>\n",
       "      <td>175.46</td>\n",
       "      <td>E</td>\n",
       "      <td>3.6</td>\n",
       "    </tr>\n",
       "    <tr>\n",
       "      <th>1</th>\n",
       "      <td>2020-11-13 07:16:50.215min ago</td>\n",
       "      <td>37.85</td>\n",
       "      <td>N</td>\n",
       "      <td>26.84</td>\n",
       "      <td>E</td>\n",
       "      <td>3.1</td>\n",
       "    </tr>\n",
       "    <tr>\n",
       "      <th>2</th>\n",
       "      <td>2020-11-13 07:10:47.921min ago</td>\n",
       "      <td>47.60</td>\n",
       "      <td>N</td>\n",
       "      <td>121.82</td>\n",
       "      <td>W</td>\n",
       "      <td>2.2</td>\n",
       "    </tr>\n",
       "    <tr>\n",
       "      <th>3</th>\n",
       "      <td>2020-11-13 07:09:30.823min ago</td>\n",
       "      <td>34.85</td>\n",
       "      <td>N</td>\n",
       "      <td>24.40</td>\n",
       "      <td>E</td>\n",
       "      <td>2.5</td>\n",
       "    </tr>\n",
       "    <tr>\n",
       "      <th>4</th>\n",
       "      <td>2020-11-13 07:04:11.328min ago</td>\n",
       "      <td>37.53</td>\n",
       "      <td>N</td>\n",
       "      <td>20.51</td>\n",
       "      <td>E</td>\n",
       "      <td>2.9</td>\n",
       "    </tr>\n",
       "    <tr>\n",
       "      <th>5</th>\n",
       "      <td>2020-11-13 06:59:12.033min ago</td>\n",
       "      <td>13.57</td>\n",
       "      <td>N</td>\n",
       "      <td>120.37</td>\n",
       "      <td>E</td>\n",
       "      <td>3.0</td>\n",
       "    </tr>\n",
       "    <tr>\n",
       "      <th>6</th>\n",
       "      <td>2020-11-13 06:58:50.633min ago</td>\n",
       "      <td>37.82</td>\n",
       "      <td>N</td>\n",
       "      <td>26.82</td>\n",
       "      <td>E</td>\n",
       "      <td>2.6</td>\n",
       "    </tr>\n",
       "    <tr>\n",
       "      <th>7</th>\n",
       "      <td>2020-11-13 06:41:39.651min ago</td>\n",
       "      <td>24.99</td>\n",
       "      <td>N</td>\n",
       "      <td>123.46</td>\n",
       "      <td>E</td>\n",
       "      <td>4.9</td>\n",
       "    </tr>\n",
       "    <tr>\n",
       "      <th>8</th>\n",
       "      <td>2020-11-13 06:31:28.01hr 01min ago</td>\n",
       "      <td>21.34</td>\n",
       "      <td>S</td>\n",
       "      <td>69.91</td>\n",
       "      <td>W</td>\n",
       "      <td>2.5</td>\n",
       "    </tr>\n",
       "    <tr>\n",
       "      <th>9</th>\n",
       "      <td>2020-11-13 06:26:55.31hr 05min ago</td>\n",
       "      <td>35.70</td>\n",
       "      <td>N</td>\n",
       "      <td>117.51</td>\n",
       "      <td>W</td>\n",
       "      <td>2.3</td>\n",
       "    </tr>\n",
       "    <tr>\n",
       "      <th>10</th>\n",
       "      <td>2020-11-13 06:06:12.21hr 26min ago</td>\n",
       "      <td>37.83</td>\n",
       "      <td>N</td>\n",
       "      <td>26.89</td>\n",
       "      <td>E</td>\n",
       "      <td>2.7</td>\n",
       "    </tr>\n",
       "    <tr>\n",
       "      <th>11</th>\n",
       "      <td>2020-11-13 06:05:43.01hr 27min ago</td>\n",
       "      <td>2.18</td>\n",
       "      <td>N</td>\n",
       "      <td>128.16</td>\n",
       "      <td>E</td>\n",
       "      <td>3.3</td>\n",
       "    </tr>\n",
       "    <tr>\n",
       "      <th>12</th>\n",
       "      <td>2020-11-13 05:58:27.31hr 34min ago</td>\n",
       "      <td>33.16</td>\n",
       "      <td>N</td>\n",
       "      <td>115.63</td>\n",
       "      <td>W</td>\n",
       "      <td>2.1</td>\n",
       "    </tr>\n",
       "    <tr>\n",
       "      <th>13</th>\n",
       "      <td>2020-11-13 05:56:52.91hr 35min ago</td>\n",
       "      <td>33.15</td>\n",
       "      <td>N</td>\n",
       "      <td>115.64</td>\n",
       "      <td>W</td>\n",
       "      <td>2.7</td>\n",
       "    </tr>\n",
       "    <tr>\n",
       "      <th>14</th>\n",
       "      <td>2020-11-13 05:51:02.61hr 41min ago</td>\n",
       "      <td>33.16</td>\n",
       "      <td>N</td>\n",
       "      <td>115.63</td>\n",
       "      <td>W</td>\n",
       "      <td>2.0</td>\n",
       "    </tr>\n",
       "    <tr>\n",
       "      <th>15</th>\n",
       "      <td>2020-11-13 05:34:59.81hr 57min ago</td>\n",
       "      <td>34.00</td>\n",
       "      <td>N</td>\n",
       "      <td>117.17</td>\n",
       "      <td>W</td>\n",
       "      <td>2.3</td>\n",
       "    </tr>\n",
       "    <tr>\n",
       "      <th>16</th>\n",
       "      <td>2020-11-13 05:30:07.62hr 02min ago</td>\n",
       "      <td>54.17</td>\n",
       "      <td>N</td>\n",
       "      <td>159.67</td>\n",
       "      <td>W</td>\n",
       "      <td>4.3</td>\n",
       "    </tr>\n",
       "    <tr>\n",
       "      <th>17</th>\n",
       "      <td>2020-11-13 05:27:00.32hr 05min ago</td>\n",
       "      <td>38.81</td>\n",
       "      <td>N</td>\n",
       "      <td>39.00</td>\n",
       "      <td>E</td>\n",
       "      <td>2.0</td>\n",
       "    </tr>\n",
       "    <tr>\n",
       "      <th>18</th>\n",
       "      <td>2020-11-13 05:09:53.02hr 22min ago</td>\n",
       "      <td>55.64</td>\n",
       "      <td>N</td>\n",
       "      <td>162.15</td>\n",
       "      <td>E</td>\n",
       "      <td>4.6</td>\n",
       "    </tr>\n",
       "    <tr>\n",
       "      <th>19</th>\n",
       "      <td>2020-11-13 05:04:30.02hr 28min ago</td>\n",
       "      <td>20.76</td>\n",
       "      <td>S</td>\n",
       "      <td>69.20</td>\n",
       "      <td>W</td>\n",
       "      <td>2.5</td>\n",
       "    </tr>\n",
       "    <tr>\n",
       "      <th>20</th>\n",
       "      <td>2020-11-13 04:53:19.02hr 39min ago</td>\n",
       "      <td>37.81</td>\n",
       "      <td>N</td>\n",
       "      <td>26.95</td>\n",
       "      <td>E</td>\n",
       "      <td>3.5</td>\n",
       "    </tr>\n",
       "    <tr>\n",
       "      <th>21</th>\n",
       "      <td>2020-11-13 04:51:04.32hr 41min ago</td>\n",
       "      <td>34.81</td>\n",
       "      <td>N</td>\n",
       "      <td>24.19</td>\n",
       "      <td>E</td>\n",
       "      <td>2.6</td>\n",
       "    </tr>\n",
       "    <tr>\n",
       "      <th>22</th>\n",
       "      <td>2020-11-13 04:47:54.72hr 44min ago</td>\n",
       "      <td>31.93</td>\n",
       "      <td>S</td>\n",
       "      <td>179.81</td>\n",
       "      <td>E</td>\n",
       "      <td>4.3</td>\n",
       "    </tr>\n",
       "    <tr>\n",
       "      <th>23</th>\n",
       "      <td>2020-11-13 04:47:17.92hr 45min ago</td>\n",
       "      <td>47.02</td>\n",
       "      <td>N</td>\n",
       "      <td>122.41</td>\n",
       "      <td>W</td>\n",
       "      <td>2.4</td>\n",
       "    </tr>\n",
       "    <tr>\n",
       "      <th>24</th>\n",
       "      <td>2020-11-13 04:35:43.72hr 56min ago</td>\n",
       "      <td>49.59</td>\n",
       "      <td>S</td>\n",
       "      <td>117.27</td>\n",
       "      <td>E</td>\n",
       "      <td>5.0</td>\n",
       "    </tr>\n",
       "    <tr>\n",
       "      <th>25</th>\n",
       "      <td>2020-11-13 04:21:53.03hr 10min ago</td>\n",
       "      <td>42.49</td>\n",
       "      <td>N</td>\n",
       "      <td>46.72</td>\n",
       "      <td>E</td>\n",
       "      <td>3.2</td>\n",
       "    </tr>\n",
       "    <tr>\n",
       "      <th>26</th>\n",
       "      <td>2020-11-13 04:14:11.13hr 18min ago</td>\n",
       "      <td>36.86</td>\n",
       "      <td>N</td>\n",
       "      <td>28.28</td>\n",
       "      <td>E</td>\n",
       "      <td>3.0</td>\n",
       "    </tr>\n",
       "    <tr>\n",
       "      <th>27</th>\n",
       "      <td>2020-11-13 04:02:47.13hr 29min ago</td>\n",
       "      <td>37.83</td>\n",
       "      <td>N</td>\n",
       "      <td>26.70</td>\n",
       "      <td>E</td>\n",
       "      <td>2.0</td>\n",
       "    </tr>\n",
       "    <tr>\n",
       "      <th>28</th>\n",
       "      <td>2020-11-13 03:56:48.43hr 35min ago</td>\n",
       "      <td>18.54</td>\n",
       "      <td>N</td>\n",
       "      <td>72.86</td>\n",
       "      <td>W</td>\n",
       "      <td>1.9</td>\n",
       "    </tr>\n",
       "    <tr>\n",
       "      <th>29</th>\n",
       "      <td>2020-11-13 03:54:54.43hr 37min ago</td>\n",
       "      <td>46.13</td>\n",
       "      <td>N</td>\n",
       "      <td>7.43</td>\n",
       "      <td>E</td>\n",
       "      <td>1.3</td>\n",
       "    </tr>\n",
       "    <tr>\n",
       "      <th>30</th>\n",
       "      <td>2020-11-13 03:53:44.93hr 38min ago</td>\n",
       "      <td>34.99</td>\n",
       "      <td>N</td>\n",
       "      <td>97.60</td>\n",
       "      <td>W</td>\n",
       "      <td>2.0</td>\n",
       "    </tr>\n",
       "    <tr>\n",
       "      <th>31</th>\n",
       "      <td>2020-11-13 03:52:12.03hr 40min ago</td>\n",
       "      <td>24.03</td>\n",
       "      <td>S</td>\n",
       "      <td>67.14</td>\n",
       "      <td>W</td>\n",
       "      <td>3.3</td>\n",
       "    </tr>\n",
       "    <tr>\n",
       "      <th>32</th>\n",
       "      <td>2020-11-13 03:51:45.03hr 40min ago</td>\n",
       "      <td>10.33</td>\n",
       "      <td>S</td>\n",
       "      <td>123.57</td>\n",
       "      <td>E</td>\n",
       "      <td>2.7</td>\n",
       "    </tr>\n",
       "    <tr>\n",
       "      <th>33</th>\n",
       "      <td>2020-11-13 03:44:12.73hr 48min ago</td>\n",
       "      <td>17.98</td>\n",
       "      <td>N</td>\n",
       "      <td>66.89</td>\n",
       "      <td>W</td>\n",
       "      <td>2.5</td>\n",
       "    </tr>\n",
       "    <tr>\n",
       "      <th>34</th>\n",
       "      <td>2020-11-13 03:42:53.03hr 49min ago</td>\n",
       "      <td>12.12</td>\n",
       "      <td>N</td>\n",
       "      <td>87.88</td>\n",
       "      <td>W</td>\n",
       "      <td>3.5</td>\n",
       "    </tr>\n",
       "    <tr>\n",
       "      <th>35</th>\n",
       "      <td>2020-11-13 03:35:25.23hr 57min ago</td>\n",
       "      <td>32.97</td>\n",
       "      <td>N</td>\n",
       "      <td>115.87</td>\n",
       "      <td>W</td>\n",
       "      <td>2.3</td>\n",
       "    </tr>\n",
       "    <tr>\n",
       "      <th>36</th>\n",
       "      <td>2020-11-13 03:06:41.24hr 26min ago</td>\n",
       "      <td>37.70</td>\n",
       "      <td>N</td>\n",
       "      <td>36.31</td>\n",
       "      <td>E</td>\n",
       "      <td>2.1</td>\n",
       "    </tr>\n",
       "    <tr>\n",
       "      <th>37</th>\n",
       "      <td>2020-11-13 02:59:31.84hr 33min ago</td>\n",
       "      <td>44.34</td>\n",
       "      <td>N</td>\n",
       "      <td>115.00</td>\n",
       "      <td>W</td>\n",
       "      <td>2.6</td>\n",
       "    </tr>\n",
       "    <tr>\n",
       "      <th>38</th>\n",
       "      <td>2020-11-13 02:58:59.44hr 33min ago</td>\n",
       "      <td>37.78</td>\n",
       "      <td>N</td>\n",
       "      <td>21.29</td>\n",
       "      <td>E</td>\n",
       "      <td>3.1</td>\n",
       "    </tr>\n",
       "    <tr>\n",
       "      <th>39</th>\n",
       "      <td>2020-11-13 02:57:47.04hr 34min ago</td>\n",
       "      <td>12.26</td>\n",
       "      <td>N</td>\n",
       "      <td>87.47</td>\n",
       "      <td>W</td>\n",
       "      <td>2.6</td>\n",
       "    </tr>\n",
       "    <tr>\n",
       "      <th>40</th>\n",
       "      <td>2020-11-13 02:48:18.14hr 44min ago</td>\n",
       "      <td>44.35</td>\n",
       "      <td>N</td>\n",
       "      <td>115.02</td>\n",
       "      <td>W</td>\n",
       "      <td>2.7</td>\n",
       "    </tr>\n",
       "    <tr>\n",
       "      <th>41</th>\n",
       "      <td>2020-11-13 02:38:13.14hr 54min ago</td>\n",
       "      <td>34.31</td>\n",
       "      <td>N</td>\n",
       "      <td>26.11</td>\n",
       "      <td>E</td>\n",
       "      <td>4.2</td>\n",
       "    </tr>\n",
       "    <tr>\n",
       "      <th>42</th>\n",
       "      <td>2020-11-13 02:28:12.25hr 04min ago</td>\n",
       "      <td>38.55</td>\n",
       "      <td>N</td>\n",
       "      <td>43.14</td>\n",
       "      <td>E</td>\n",
       "      <td>2.1</td>\n",
       "    </tr>\n",
       "    <tr>\n",
       "      <th>43</th>\n",
       "      <td>2020-11-13 02:25:25.25hr 07min ago</td>\n",
       "      <td>60.18</td>\n",
       "      <td>N</td>\n",
       "      <td>150.94</td>\n",
       "      <td>W</td>\n",
       "      <td>3.1</td>\n",
       "    </tr>\n",
       "    <tr>\n",
       "      <th>44</th>\n",
       "      <td>2020-11-13 02:13:25.35hr 19min ago</td>\n",
       "      <td>37.84</td>\n",
       "      <td>N</td>\n",
       "      <td>26.81</td>\n",
       "      <td>E</td>\n",
       "      <td>2.3</td>\n",
       "    </tr>\n",
       "    <tr>\n",
       "      <th>45</th>\n",
       "      <td>2020-11-13 01:59:57.35hr 32min ago</td>\n",
       "      <td>31.72</td>\n",
       "      <td>S</td>\n",
       "      <td>68.84</td>\n",
       "      <td>W</td>\n",
       "      <td>4.3</td>\n",
       "    </tr>\n",
       "    <tr>\n",
       "      <th>46</th>\n",
       "      <td>2020-11-13 01:54:08.95hr 38min ago</td>\n",
       "      <td>37.88</td>\n",
       "      <td>N</td>\n",
       "      <td>26.73</td>\n",
       "      <td>E</td>\n",
       "      <td>2.2</td>\n",
       "    </tr>\n",
       "    <tr>\n",
       "      <th>47</th>\n",
       "      <td>2020-11-13 01:52:57.45hr 39min ago</td>\n",
       "      <td>37.92</td>\n",
       "      <td>N</td>\n",
       "      <td>26.46</td>\n",
       "      <td>E</td>\n",
       "      <td>2.4</td>\n",
       "    </tr>\n",
       "    <tr>\n",
       "      <th>48</th>\n",
       "      <td>2020-11-13 01:48:53.05hr 43min ago</td>\n",
       "      <td>31.01</td>\n",
       "      <td>S</td>\n",
       "      <td>71.38</td>\n",
       "      <td>W</td>\n",
       "      <td>3.4</td>\n",
       "    </tr>\n",
       "    <tr>\n",
       "      <th>49</th>\n",
       "      <td>2020-11-13 01:13:28.86hr 19min ago</td>\n",
       "      <td>37.84</td>\n",
       "      <td>N</td>\n",
       "      <td>26.97</td>\n",
       "      <td>E</td>\n",
       "      <td>2.1</td>\n",
       "    </tr>\n",
       "    <tr>\n",
       "      <th>50</th>\n",
       "      <td>NaN</td>\n",
       "      <td>NaN</td>\n",
       "      <td>NaN</td>\n",
       "      <td>NaN</td>\n",
       "      <td>NaN</td>\n",
       "      <td>NaN</td>\n",
       "    </tr>\n",
       "    <tr>\n",
       "      <th>51</th>\n",
       "      <td>12345678910»</td>\n",
       "      <td>12345678910»</td>\n",
       "      <td>12345678910»</td>\n",
       "      <td>12345678910»</td>\n",
       "      <td>12345678910»</td>\n",
       "      <td>12345678910»</td>\n",
       "    </tr>\n",
       "    <tr>\n",
       "      <th>52</th>\n",
       "      <td>NaN</td>\n",
       "      <td>NaN</td>\n",
       "      <td>NaN</td>\n",
       "      <td>NaN</td>\n",
       "      <td>NaN</td>\n",
       "      <td>NaN</td>\n",
       "    </tr>\n",
       "  </tbody>\n",
       "</table>\n",
       "</div>"
      ],
      "text/plain": [
       "                       Date & Time UTC Latitude degrees                  \\\n",
       "                         12345678910»    12345678910» 12345678910».1   \n",
       "0       2020-11-13 07:16:52.015min ago            38.56               S   \n",
       "1       2020-11-13 07:16:50.215min ago            37.85               N   \n",
       "2       2020-11-13 07:10:47.921min ago            47.60               N   \n",
       "3       2020-11-13 07:09:30.823min ago            34.85               N   \n",
       "4       2020-11-13 07:04:11.328min ago            37.53               N   \n",
       "5       2020-11-13 06:59:12.033min ago            13.57               N   \n",
       "6       2020-11-13 06:58:50.633min ago            37.82               N   \n",
       "7       2020-11-13 06:41:39.651min ago            24.99               N   \n",
       "8   2020-11-13 06:31:28.01hr 01min ago            21.34               S   \n",
       "9   2020-11-13 06:26:55.31hr 05min ago            35.70               N   \n",
       "10  2020-11-13 06:06:12.21hr 26min ago            37.83               N   \n",
       "11  2020-11-13 06:05:43.01hr 27min ago             2.18               N   \n",
       "12  2020-11-13 05:58:27.31hr 34min ago            33.16               N   \n",
       "13  2020-11-13 05:56:52.91hr 35min ago            33.15               N   \n",
       "14  2020-11-13 05:51:02.61hr 41min ago            33.16               N   \n",
       "15  2020-11-13 05:34:59.81hr 57min ago            34.00               N   \n",
       "16  2020-11-13 05:30:07.62hr 02min ago            54.17               N   \n",
       "17  2020-11-13 05:27:00.32hr 05min ago            38.81               N   \n",
       "18  2020-11-13 05:09:53.02hr 22min ago            55.64               N   \n",
       "19  2020-11-13 05:04:30.02hr 28min ago            20.76               S   \n",
       "20  2020-11-13 04:53:19.02hr 39min ago            37.81               N   \n",
       "21  2020-11-13 04:51:04.32hr 41min ago            34.81               N   \n",
       "22  2020-11-13 04:47:54.72hr 44min ago            31.93               S   \n",
       "23  2020-11-13 04:47:17.92hr 45min ago            47.02               N   \n",
       "24  2020-11-13 04:35:43.72hr 56min ago            49.59               S   \n",
       "25  2020-11-13 04:21:53.03hr 10min ago            42.49               N   \n",
       "26  2020-11-13 04:14:11.13hr 18min ago            36.86               N   \n",
       "27  2020-11-13 04:02:47.13hr 29min ago            37.83               N   \n",
       "28  2020-11-13 03:56:48.43hr 35min ago            18.54               N   \n",
       "29  2020-11-13 03:54:54.43hr 37min ago            46.13               N   \n",
       "30  2020-11-13 03:53:44.93hr 38min ago            34.99               N   \n",
       "31  2020-11-13 03:52:12.03hr 40min ago            24.03               S   \n",
       "32  2020-11-13 03:51:45.03hr 40min ago            10.33               S   \n",
       "33  2020-11-13 03:44:12.73hr 48min ago            17.98               N   \n",
       "34  2020-11-13 03:42:53.03hr 49min ago            12.12               N   \n",
       "35  2020-11-13 03:35:25.23hr 57min ago            32.97               N   \n",
       "36  2020-11-13 03:06:41.24hr 26min ago            37.70               N   \n",
       "37  2020-11-13 02:59:31.84hr 33min ago            44.34               N   \n",
       "38  2020-11-13 02:58:59.44hr 33min ago            37.78               N   \n",
       "39  2020-11-13 02:57:47.04hr 34min ago            12.26               N   \n",
       "40  2020-11-13 02:48:18.14hr 44min ago            44.35               N   \n",
       "41  2020-11-13 02:38:13.14hr 54min ago            34.31               N   \n",
       "42  2020-11-13 02:28:12.25hr 04min ago            38.55               N   \n",
       "43  2020-11-13 02:25:25.25hr 07min ago            60.18               N   \n",
       "44  2020-11-13 02:13:25.35hr 19min ago            37.84               N   \n",
       "45  2020-11-13 01:59:57.35hr 32min ago            31.72               S   \n",
       "46  2020-11-13 01:54:08.95hr 38min ago            37.88               N   \n",
       "47  2020-11-13 01:52:57.45hr 39min ago            37.92               N   \n",
       "48  2020-11-13 01:48:53.05hr 43min ago            31.01               S   \n",
       "49  2020-11-13 01:13:28.86hr 19min ago            37.84               N   \n",
       "50                                 NaN              NaN             NaN   \n",
       "51                       12345678910»    12345678910»   12345678910»   \n",
       "52                                 NaN              NaN             NaN   \n",
       "\n",
       "   Longitude degrees                 Region name [+]  \n",
       "       12345678910» 12345678910».1   12345678910»  \n",
       "0             175.46               E             3.6  \n",
       "1              26.84               E             3.1  \n",
       "2             121.82               W             2.2  \n",
       "3              24.40               E             2.5  \n",
       "4              20.51               E             2.9  \n",
       "5             120.37               E             3.0  \n",
       "6              26.82               E             2.6  \n",
       "7             123.46               E             4.9  \n",
       "8              69.91               W             2.5  \n",
       "9             117.51               W             2.3  \n",
       "10             26.89               E             2.7  \n",
       "11            128.16               E             3.3  \n",
       "12            115.63               W             2.1  \n",
       "13            115.64               W             2.7  \n",
       "14            115.63               W             2.0  \n",
       "15            117.17               W             2.3  \n",
       "16            159.67               W             4.3  \n",
       "17             39.00               E             2.0  \n",
       "18            162.15               E             4.6  \n",
       "19             69.20               W             2.5  \n",
       "20             26.95               E             3.5  \n",
       "21             24.19               E             2.6  \n",
       "22            179.81               E             4.3  \n",
       "23            122.41               W             2.4  \n",
       "24            117.27               E             5.0  \n",
       "25             46.72               E             3.2  \n",
       "26             28.28               E             3.0  \n",
       "27             26.70               E             2.0  \n",
       "28             72.86               W             1.9  \n",
       "29              7.43               E             1.3  \n",
       "30             97.60               W             2.0  \n",
       "31             67.14               W             3.3  \n",
       "32            123.57               E             2.7  \n",
       "33             66.89               W             2.5  \n",
       "34             87.88               W             3.5  \n",
       "35            115.87               W             2.3  \n",
       "36             36.31               E             2.1  \n",
       "37            115.00               W             2.6  \n",
       "38             21.29               E             3.1  \n",
       "39             87.47               W             2.6  \n",
       "40            115.02               W             2.7  \n",
       "41             26.11               E             4.2  \n",
       "42             43.14               E             2.1  \n",
       "43            150.94               W             3.1  \n",
       "44             26.81               E             2.3  \n",
       "45             68.84               W             4.3  \n",
       "46             26.73               E             2.2  \n",
       "47             26.46               E             2.4  \n",
       "48             71.38               W             3.4  \n",
       "49             26.97               E             2.1  \n",
       "50               NaN             NaN             NaN  \n",
       "51     12345678910»   12345678910»   12345678910»  \n",
       "52               NaN             NaN             NaN  "
      ]
     },
     "execution_count": 150,
     "metadata": {},
     "output_type": "execute_result"
    }
   ],
   "source": [
    "#your code\n",
    "html6 = requests.get(url6).content\n",
    "info = pd.read_html(html6)[3]\n",
    "info\n",
    "columns = ['Date & Time UTC', 'Latitude degrees', 'Longitude degrees','Region name [+]']\n",
    "df = info.loc[:, columns]\n",
    "df"
   ]
  },
  {
   "cell_type": "markdown",
   "metadata": {},
   "source": [
    "#### Display the date, days, title, city, country of next 25 hackathon events as a Pandas dataframe table"
   ]
  },
  {
   "cell_type": "code",
   "execution_count": null,
   "metadata": {},
   "outputs": [],
   "source": [
    "# This is the url you will scrape in this exercise\n",
    "url ='https://hackevents.co/hackathons'"
   ]
  },
  {
   "cell_type": "code",
   "execution_count": null,
   "metadata": {},
   "outputs": [],
   "source": [
    "#your code"
   ]
  },
  {
   "cell_type": "markdown",
   "metadata": {},
   "source": [
    "#### Count number of tweets by a given Twitter account."
   ]
  },
  {
   "cell_type": "markdown",
   "metadata": {},
   "source": [
    "You will need to include a ***try/except block*** for account names not found. \n",
    "<br>***Hint:*** the program should count the number of tweets for any provided account"
   ]
  },
  {
   "cell_type": "code",
   "execution_count": null,
   "metadata": {},
   "outputs": [],
   "source": [
    "# This is the url you will scrape in this exercise \n",
    "# You will need to add the account credentials to this url\n",
    "url = 'https://twitter.com/'"
   ]
  },
  {
   "cell_type": "code",
   "execution_count": null,
   "metadata": {},
   "outputs": [],
   "source": [
    "#your code"
   ]
  },
  {
   "cell_type": "markdown",
   "metadata": {},
   "source": [
    "#### Number of followers of a given twitter account"
   ]
  },
  {
   "cell_type": "markdown",
   "metadata": {},
   "source": [
    "You will need to include a ***try/except block*** in case account/s name not found. \n",
    "<br>***Hint:*** the program should count the followers for any provided account"
   ]
  },
  {
   "cell_type": "code",
   "execution_count": null,
   "metadata": {},
   "outputs": [],
   "source": [
    "# This is the url you will scrape in this exercise \n",
    "# You will need to add the account credentials to this url\n",
    "url = 'https://twitter.com/'"
   ]
  },
  {
   "cell_type": "code",
   "execution_count": null,
   "metadata": {},
   "outputs": [],
   "source": [
    "#your code"
   ]
  },
  {
   "cell_type": "markdown",
   "metadata": {},
   "source": [
    "#### List all language names and number of related articles in the order they appear in wikipedia.org"
   ]
  },
  {
   "cell_type": "code",
   "execution_count": null,
   "metadata": {},
   "outputs": [],
   "source": [
    "# This is the url you will scrape in this exercise\n",
    "url = 'https://www.wikipedia.org/'"
   ]
  },
  {
   "cell_type": "code",
   "execution_count": null,
   "metadata": {},
   "outputs": [],
   "source": [
    "#your code"
   ]
  },
  {
   "cell_type": "markdown",
   "metadata": {},
   "source": [
    "#### A list with the different kind of datasets available in data.gov.uk "
   ]
  },
  {
   "cell_type": "code",
   "execution_count": null,
   "metadata": {},
   "outputs": [],
   "source": [
    "# This is the url you will scrape in this exercise\n",
    "url = 'https://data.gov.uk/'"
   ]
  },
  {
   "cell_type": "code",
   "execution_count": null,
   "metadata": {},
   "outputs": [],
   "source": [
    "#your code "
   ]
  },
  {
   "cell_type": "markdown",
   "metadata": {},
   "source": [
    "#### Top 10 languages by number of native speakers stored in a Pandas Dataframe"
   ]
  },
  {
   "cell_type": "code",
   "execution_count": null,
   "metadata": {},
   "outputs": [],
   "source": [
    "# This is the url you will scrape in this exercise\n",
    "url = 'https://en.wikipedia.org/wiki/List_of_languages_by_number_of_native_speakers'"
   ]
  },
  {
   "cell_type": "code",
   "execution_count": null,
   "metadata": {},
   "outputs": [],
   "source": [
    "#your code"
   ]
  },
  {
   "cell_type": "markdown",
   "metadata": {},
   "source": [
    "### BONUS QUESTIONS"
   ]
  },
  {
   "cell_type": "markdown",
   "metadata": {},
   "source": [
    "#### Scrape a certain number of tweets of a given Twitter account."
   ]
  },
  {
   "cell_type": "code",
   "execution_count": null,
   "metadata": {},
   "outputs": [],
   "source": [
    "# This is the url you will scrape in this exercise \n",
    "# You will need to add the account credentials to this url\n",
    "url = 'https://twitter.com/'"
   ]
  },
  {
   "cell_type": "code",
   "execution_count": null,
   "metadata": {},
   "outputs": [],
   "source": [
    "# your code"
   ]
  },
  {
   "cell_type": "markdown",
   "metadata": {},
   "source": [
    "#### IMDB's Top 250 data (movie name, Initial release, director name and stars) as a pandas dataframe"
   ]
  },
  {
   "cell_type": "code",
   "execution_count": null,
   "metadata": {},
   "outputs": [],
   "source": [
    "# This is the url you will scrape in this exercise \n",
    "url = 'https://www.imdb.com/chart/top'"
   ]
  },
  {
   "cell_type": "code",
   "execution_count": null,
   "metadata": {},
   "outputs": [],
   "source": [
    "# your code"
   ]
  },
  {
   "cell_type": "markdown",
   "metadata": {},
   "source": [
    "#### Movie name, year and a brief summary of the top 10 random movies (IMDB) as a pandas dataframe."
   ]
  },
  {
   "cell_type": "code",
   "execution_count": null,
   "metadata": {},
   "outputs": [],
   "source": [
    "#This is the url you will scrape in this exercise\n",
    "url = 'http://www.imdb.com/chart/top'"
   ]
  },
  {
   "cell_type": "code",
   "execution_count": null,
   "metadata": {},
   "outputs": [],
   "source": [
    "#your code"
   ]
  },
  {
   "cell_type": "markdown",
   "metadata": {},
   "source": [
    "#### Find the live weather report (temperature, wind speed, description and weather) of a given city."
   ]
  },
  {
   "cell_type": "code",
   "execution_count": null,
   "metadata": {},
   "outputs": [],
   "source": [
    "#https://openweathermap.org/current\n",
    "city = city=input('Enter the city:')\n",
    "url = 'http://api.openweathermap.org/data/2.5/weather?'+'q='+city+'&APPID=b35975e18dc93725acb092f7272cc6b8&units=metric'"
   ]
  },
  {
   "cell_type": "code",
   "execution_count": null,
   "metadata": {},
   "outputs": [],
   "source": [
    "# your code"
   ]
  },
  {
   "cell_type": "markdown",
   "metadata": {},
   "source": [
    "#### Book name,price and stock availability as a pandas dataframe."
   ]
  },
  {
   "cell_type": "code",
   "execution_count": null,
   "metadata": {},
   "outputs": [],
   "source": [
    "# This is the url you will scrape in this exercise. \n",
    "# It is a fictional bookstore created to be scraped. \n",
    "url = 'http://books.toscrape.com/'"
   ]
  },
  {
   "cell_type": "code",
   "execution_count": null,
   "metadata": {},
   "outputs": [],
   "source": [
    "#your code"
   ]
  }
 ],
 "metadata": {
  "kernelspec": {
   "display_name": "Python 3",
   "language": "python",
   "name": "python3"
  },
  "language_info": {
   "codemirror_mode": {
    "name": "ipython",
    "version": 3
   },
   "file_extension": ".py",
   "mimetype": "text/x-python",
   "name": "python",
   "nbconvert_exporter": "python",
   "pygments_lexer": "ipython3",
   "version": "3.8.5"
  }
 },
 "nbformat": 4,
 "nbformat_minor": 2
}
